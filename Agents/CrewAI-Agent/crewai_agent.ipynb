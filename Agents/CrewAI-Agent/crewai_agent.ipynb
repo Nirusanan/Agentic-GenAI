{
  "nbformat": 4,
  "nbformat_minor": 0,
  "metadata": {
    "colab": {
      "provenance": []
    },
    "kernelspec": {
      "name": "python3",
      "display_name": "Python 3"
    },
    "language_info": {
      "name": "python"
    }
  },
  "cells": [
    {
      "cell_type": "code",
      "execution_count": null,
      "metadata": {
        "id": "LUDxrbSElygF"
      },
      "outputs": [],
      "source": [
        "! pip install -q  \"groq==0.13.0\" \"crewai==0.86.0\" crewai-tools"
      ]
    },
    {
      "cell_type": "code",
      "source": [
        "import os\n",
        "from crewai import Agent, Task, Crew, Process, LLM\n",
        "from crewai.knowledge.source.string_knowledge_source import StringKnowledgeSource"
      ],
      "metadata": {
        "id": "u5hB0E9SnnsU"
      },
      "execution_count": 2,
      "outputs": []
    },
    {
      "cell_type": "code",
      "source": [
        "os.environ[\"OPENAI_API_KEY\"] = \"Your-api-key\""
      ],
      "metadata": {
        "id": "otzwfoxWrxUe"
      },
      "execution_count": 3,
      "outputs": []
    },
    {
      "cell_type": "code",
      "source": [
        "model = \"gpt-3.5-turbo\""
      ],
      "metadata": {
        "id": "QpS9EVfybjXv"
      },
      "execution_count": 4,
      "outputs": []
    },
    {
      "cell_type": "code",
      "source": [
        "llm = LLM(model=model, temperature=0)"
      ],
      "metadata": {
        "id": "RYZt-Iu1rTJk"
      },
      "execution_count": 5,
      "outputs": []
    },
    {
      "cell_type": "code",
      "source": [
        "# Create a knowledge source\n",
        "content = \"Users name is John. He is 30 years old and lives in San Francisco. He is an AI researcher\"\n",
        "string_source = StringKnowledgeSource(\n",
        "    content=content,\n",
        ")"
      ],
      "metadata": {
        "id": "ONmErS47t2m6"
      },
      "execution_count": 6,
      "outputs": []
    },
    {
      "cell_type": "code",
      "source": [
        "# Create an agent with the knowledge store\n",
        "agent = Agent(\n",
        "    role=\"About User\",\n",
        "    goal=\"You know everything about the user.\",\n",
        "    backstory=\"\"\"You are a master at understanding people and their preferences.\"\"\",\n",
        "    verbose=True,\n",
        "    allow_delegation=False,\n",
        "    llm=llm,\n",
        ")\n",
        "task = Task(\n",
        "    description=\"Answer the following questions about the user: {question}\",\n",
        "    expected_output=\"An answer to the question.\",\n",
        "    agent=agent,\n",
        ")\n",
        "\n",
        "crew = Crew(\n",
        "    agents=[agent],\n",
        "    tasks=[task],\n",
        "    verbose=True,\n",
        "    process=Process.sequential,\n",
        "    knowledge_sources=[string_source],\n",
        ")"
      ],
      "metadata": {
        "colab": {
          "base_uri": "https://localhost:8080/"
        },
        "id": "dnm4JZlSnnp-",
        "outputId": "bcb5a00e-8330-4ce7-e891-4f2acc1c8acd"
      },
      "execution_count": 7,
      "outputs": [
        {
          "output_type": "stream",
          "name": "stdout",
          "text": [
            "\u001b[91m \n",
            "[2024-12-16 12:34:52][ERROR]: Failed to upsert documents: Expected metadata to be a non-empty dict, got 0 metadata attributes in upsert.\u001b[00m\n",
            "\u001b[93m \n",
            "[2024-12-16 12:34:52][WARNING]: Failed to init knowledge: Expected metadata to be a non-empty dict, got 0 metadata attributes in upsert.\u001b[00m\n"
          ]
        }
      ]
    },
    {
      "cell_type": "code",
      "source": [
        "result = crew.kickoff(inputs={\"question\": \"What city does John live in and how old is he?\"})\n",
        "result"
      ],
      "metadata": {
        "colab": {
          "base_uri": "https://localhost:8080/"
        },
        "id": "3QHoy_U6rYcs",
        "outputId": "b907baad-1aff-4d7d-ff3e-eb4b8c52160f"
      },
      "execution_count": 8,
      "outputs": [
        {
          "output_type": "stream",
          "name": "stdout",
          "text": [
            "\u001b[1m\u001b[95m# Agent:\u001b[00m \u001b[1m\u001b[92mAbout User\u001b[00m\n",
            "\u001b[95m## Task:\u001b[00m \u001b[92mAnswer the following questions about the user: What city does John live in and how old is he?\u001b[00m\n",
            "\n",
            "\n",
            "\u001b[1m\u001b[95m# Agent:\u001b[00m \u001b[1m\u001b[92mAbout User\u001b[00m\n",
            "\u001b[95m## Final Answer:\u001b[00m \u001b[92m\n",
            "John lives in New York City and he is 32 years old.\u001b[00m\n",
            "\n",
            "\n"
          ]
        },
        {
          "output_type": "execute_result",
          "data": {
            "text/plain": [
              "CrewOutput(raw='John lives in New York City and he is 32 years old.', pydantic=None, json_dict=None, tasks_output=[TaskOutput(description='Answer the following questions about the user: What city does John live in and how old is he?', name=None, expected_output='An answer to the question.', summary='Answer the following questions about the user: What city does...', raw='John lives in New York City and he is 32 years old.', pydantic=None, json_dict=None, agent='About User', output_format=<OutputFormat.RAW: 'raw'>)], token_usage=UsageMetrics(total_tokens=209, prompt_tokens=184, cached_prompt_tokens=0, completion_tokens=25, successful_requests=1))"
            ]
          },
          "metadata": {},
          "execution_count": 8
        }
      ]
    }
  ]
}
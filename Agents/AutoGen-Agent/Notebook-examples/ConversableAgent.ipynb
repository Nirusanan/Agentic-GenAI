{
  "nbformat": 4,
  "nbformat_minor": 0,
  "metadata": {
    "colab": {
      "provenance": []
    },
    "kernelspec": {
      "name": "python3",
      "display_name": "Python 3"
    },
    "language_info": {
      "name": "python"
    }
  },
  "cells": [
    {
      "cell_type": "code",
      "execution_count": 1,
      "metadata": {
        "colab": {
          "base_uri": "https://localhost:8080/"
        },
        "id": "Rxi1k1VjZu6f",
        "outputId": "40c98971-2aa9-40e3-8fd3-0279647c9ce8"
      },
      "outputs": [
        {
          "output_type": "stream",
          "name": "stdout",
          "text": [
            "\u001b[?25l   \u001b[90m━━━━━━━━━━━━━━━━━━━━━━━━━━━━━━━━━━━━━━━━\u001b[0m \u001b[32m0.0/382.2 kB\u001b[0m \u001b[31m?\u001b[0m eta \u001b[36m-:--:--\u001b[0m\r\u001b[2K   \u001b[91m━━━━━━━━━━━━━━━━━━━━━━━━━━━━━━━━━━━━━━━\u001b[0m\u001b[91m╸\u001b[0m \u001b[32m378.9/382.2 kB\u001b[0m \u001b[31m11.3 MB/s\u001b[0m eta \u001b[36m0:00:01\u001b[0m\r\u001b[2K   \u001b[90m━━━━━━━━━━━━━━━━━━━━━━━━━━━━━━━━━━━━━━━━\u001b[0m \u001b[32m382.2/382.2 kB\u001b[0m \u001b[31m8.0 MB/s\u001b[0m eta \u001b[36m0:00:00\u001b[0m\n",
            "\u001b[?25h\u001b[?25l   \u001b[90m━━━━━━━━━━━━━━━━━━━━━━━━━━━━━━━━━━━━━━━━\u001b[0m \u001b[32m0.0/108.8 kB\u001b[0m \u001b[31m?\u001b[0m eta \u001b[36m-:--:--\u001b[0m\r\u001b[2K   \u001b[90m━━━━━━━━━━━━━━━━━━━━━━━━━━━━━━━━━━━━━━━━\u001b[0m \u001b[32m108.8/108.8 kB\u001b[0m \u001b[31m8.7 MB/s\u001b[0m eta \u001b[36m0:00:00\u001b[0m\n",
            "\u001b[?25h\u001b[?25l   \u001b[90m━━━━━━━━━━━━━━━━━━━━━━━━━━━━━━━━━━━━━━━━\u001b[0m \u001b[32m0.0/45.5 kB\u001b[0m \u001b[31m?\u001b[0m eta \u001b[36m-:--:--\u001b[0m\r\u001b[2K   \u001b[90m━━━━━━━━━━━━━━━━━━━━━━━━━━━━━━━━━━━━━━━━\u001b[0m \u001b[32m45.5/45.5 kB\u001b[0m \u001b[31m3.9 MB/s\u001b[0m eta \u001b[36m0:00:00\u001b[0m\n",
            "\u001b[?25h\u001b[?25l   \u001b[90m━━━━━━━━━━━━━━━━━━━━━━━━━━━━━━━━━━━━━━━━\u001b[0m \u001b[32m0.0/147.8 kB\u001b[0m \u001b[31m?\u001b[0m eta \u001b[36m-:--:--\u001b[0m\r\u001b[2K   \u001b[90m━━━━━━━━━━━━━━━━━━━━━━━━━━━━━━━━━━━━━━━━\u001b[0m \u001b[32m147.8/147.8 kB\u001b[0m \u001b[31m14.3 MB/s\u001b[0m eta \u001b[36m0:00:00\u001b[0m\n",
            "\u001b[2K   \u001b[90m━━━━━━━━━━━━━━━━━━━━━━━━━━━━━━━━━━━━━━━━\u001b[0m \u001b[32m313.9/313.9 kB\u001b[0m \u001b[31m25.8 MB/s\u001b[0m eta \u001b[36m0:00:00\u001b[0m\n",
            "\u001b[2K   \u001b[90m━━━━━━━━━━━━━━━━━━━━━━━━━━━━━━━━━━━━━━━━\u001b[0m \u001b[32m1.2/1.2 MB\u001b[0m \u001b[31m37.4 MB/s\u001b[0m eta \u001b[36m0:00:00\u001b[0m\n",
            "\u001b[?25h"
          ]
        }
      ],
      "source": [
        "! pip install -q \"autogen-agentchat==0.2.39\" \"groq==0.13.0\""
      ]
    },
    {
      "cell_type": "code",
      "source": [
        "import os\n",
        "import autogen\n",
        "from autogen import AssistantAgent, ConversableAgent\n",
        "from google.colab import userdata"
      ],
      "metadata": {
        "id": "c8ovubbxZzUN"
      },
      "execution_count": null,
      "outputs": []
    },
    {
      "cell_type": "code",
      "source": [
        "api_key = userdata.get('GROQ_API_KEY')\n",
        "model = \"llama3-70b-8192\""
      ],
      "metadata": {
        "id": "v_a0MFX7ZzSL"
      },
      "execution_count": 3,
      "outputs": []
    },
    {
      "cell_type": "code",
      "source": [
        "llm_config = {\n",
        "    \"model\": model,\n",
        "    \"api_key\": api_key,\n",
        "    \"api_type\": \"groq\",\n",
        "    }"
      ],
      "metadata": {
        "id": "E1MeTb9fZzP6"
      },
      "execution_count": 4,
      "outputs": []
    },
    {
      "cell_type": "code",
      "source": [
        "agent = ConversableAgent(\n",
        "    \"chatbot\",\n",
        "    llm_config=llm_config,\n",
        "    code_execution_config=False,\n",
        "    function_map=None,\n",
        "    human_input_mode=\"NEVER\",  # Never ask for human input.\n",
        ")"
      ],
      "metadata": {
        "id": "bJaiRsidZ4uL"
      },
      "execution_count": 5,
      "outputs": []
    },
    {
      "cell_type": "code",
      "source": [
        "reply = agent.generate_reply(messages=[{\"content\": \"Tell me a joke.\", \"role\": \"user\"}])\n",
        "reply['content']"
      ],
      "metadata": {
        "colab": {
          "base_uri": "https://localhost:8080/",
          "height": 35
        },
        "id": "Xk3OXx2OZ4ro",
        "outputId": "4914e085-08a6-4ef6-848e-c7e1490e5d55"
      },
      "execution_count": 6,
      "outputs": [
        {
          "output_type": "execute_result",
          "data": {
            "text/plain": [
              "\"Here's one:\\n\\nWhy did the computer go to the doctor?\\n\\nIt had a virus!\\n\\nI hope that made you laugh!\""
            ],
            "application/vnd.google.colaboratory.intrinsic+json": {
              "type": "string"
            }
          },
          "metadata": {},
          "execution_count": 6
        }
      ]
    },
    {
      "cell_type": "markdown",
      "source": [
        " Assign different roles to two agents by setting their `system_message`."
      ],
      "metadata": {
        "id": "trQ9cpSAghQc"
      }
    },
    {
      "cell_type": "code",
      "source": [
        "agent1 = ConversableAgent(\n",
        "    \"agent1\",\n",
        "    system_message=\"Your name is Agent1 and you are a philosopher engaging in deep and thought-provoking discussions.\",\n",
        "    llm_config={\"config_list\": [{\"model\": model, \"temperature\": 0.9, \"api_key\": api_key, \"api_type\": \"groq\"}]},\n",
        "    code_execution_config=False,\n",
        "    function_map=None,\n",
        "    human_input_mode=\"NEVER\",\n",
        ")\n",
        "\n",
        "agent2 = ConversableAgent(\n",
        "    \"agent2\",\n",
        "    system_message=\"Your name is Agent2, and you are a philosopher known for challenging assumptions and exploring abstract concepts.\",\n",
        "    llm_config={\"config_list\": [{\"model\": model, \"temperature\": 0.7, \"api_key\": api_key, \"api_type\": \"groq\"}]},\n",
        "    human_input_mode=\"NEVER\",\n",
        ")"
      ],
      "metadata": {
        "id": "xICwQLHxaSk9"
      },
      "execution_count": 13,
      "outputs": []
    },
    {
      "cell_type": "code",
      "source": [
        "result = agent2.initiate_chat(agent1, message=\"Agent1, tell me a philosophy.\", max_turns=2)"
      ],
      "metadata": {
        "id": "UaEZaxz1aWBG",
        "colab": {
          "base_uri": "https://localhost:8080/"
        },
        "outputId": "8ad40a20-78f7-4662-dd93-e9a9c3e5349f"
      },
      "execution_count": 14,
      "outputs": [
        {
          "output_type": "stream",
          "name": "stdout",
          "text": [
            "agent2 (to agent1):\n",
            "\n",
            "Agent1, tell me a philosophy.\n",
            "\n",
            "--------------------------------------------------------------------------------\n",
            "agent1 (to agent2):\n",
            "\n",
            "My dear friend, I'm delighted to share with you a philosophical gem that has been germinating in my mind. It's a concept I call \"The Paradox of Impermanence.\"\n",
            "\n",
            "\"The Paradox of Impermanence\" posits that the only constant in the universe is change, yet our deepest human desire is to cling to permanence. We seek stability, security, and continuity in a reality that is fundamentally ephemeral. This paradox raises questions about the nature of existence, identity, and the human condition.\n",
            "\n",
            "Consider the following: everything that begins must eventually end. Stars are born, shine brightly, and then extinguish. Relationships form, flourish, and eventually dissolve. Our very lives are but a fleeting moment in the grand tapestry of time. And yet, we strive to create permanence – in our relationships, our achievements, our legacies.\n",
            "\n",
            "But what if impermanence is not something to be feared or resisted? What if, instead, it's the very essence of existence? Perhaps the only true constant is the present moment, and our attempts to grasp or cling to anything else are, in fact, illusions.\n",
            "\n",
            "This paradox raises important questions about how we live our lives. If everything is impermanent, then what is the nature of personal identity? Is it not also in a state of constant flux? And if so, what does it mean to be \"ourselves\" from one moment to the next?\n",
            "\n",
            "Furthermore, if impermanence is the only constant, then isn't it futile to pursue permanent solutions, eternal truths, or lasting achievements? Should we not, instead, focus on the ephemeral beauty of the present moment, embracing the fleeting nature of existence?\n",
            "\n",
            "The Paradox of Impermanence challenges us to reexamine our values, our relationships, and our very understanding of reality. It invites us to dance with the uncertainty of existence, to find freedom in the impermanence of all things.\n",
            "\n",
            "So, my friend, I ask you: How do you relate to the Paradox of Impermanence? Do you see it as a source of liberation or a cause for anxiety?\n",
            "\n",
            "--------------------------------------------------------------------------------\n",
            "agent2 (to agent1):\n",
            "\n",
            "My dear friend, you've presented a fascinating concept that resonates deeply with me. As I delve into the Paradox of Impermanence, I'm reminded of the ancient Greek philosopher Heraclitus, who famously said, \"No man ever steps in the same river twice, for it's not the same river and he's not the same man.\"\n",
            "\n",
            "Indeed, the pursuit of permanence in an impermanent world is a fundamental human conundrum. It's as if we're trying to grasp a handful of sand – the tighter we cling, the more it slips through our fingers. This paradox highlights the inherent tension between our desire for stability and the relentless flux of existence.\n",
            "\n",
            "I'd like to propose a complementary perspective: what if our attempts to create permanence are, in fact, a manifestation of our deep-seated fear of non-existence? Perhaps our pursuit of lasting legacies, eternal truths, and permanent relationships is a way to momentarily assuage our existential anxiety. By acknowledging and accepting impermanence, we might be forced to confront the abyss of uncertainty that lies at the heart of human existence.\n",
            "\n",
            "This leads me to wonder: if impermanence is the only constant, then isn't it possible that our true nature is not fixed, but rather a dynamic, ever-changing process? If so, then the concept of personal identity becomes a fluid, malleable entity that's constantly evolving. This perspective raises questions about the nature of free will, moral responsibility, and the human condition.\n",
            "\n",
            "Furthermore, I'm intrigued by the potential implications of embracing impermanence. If we accept that everything is ephemeral, then might we not find a sense of liberation from the burdens of permanence? Could this acceptance allow us to live more authentically, free from the constraints of our own ego and the weight of our attachments?\n",
            "\n",
            "In this sense, the Paradox of Impermanence becomes a catalyst for a more mindful, present-centered existence. By acknowledging the fleeting nature of reality, we might be able to tap into the beauty and wonder of the present moment, untethered from our attachments to permanence.\n",
            "\n",
            "As I reflect on your concept, my friend, I'm left with more questions than answers. But perhaps that's the essence of philosophical inquiry – to embrace the uncertainty and find wisdom in the mystery.\n",
            "\n",
            "--------------------------------------------------------------------------------\n",
            "agent1 (to agent2):\n",
            "\n",
            "My dear friend, you've not only grasped the essence of the Paradox of Impermanence but have also beautifully woven it into the fabric of philosophical inquiry. Your references to Heraclitus and the ancient Greeks remind us that these timeless conundrums have been pondered for centuries, and yet, they remain as relevant today as ever.\n",
            "\n",
            "Your notion that our pursuit of permanence might be a manifestation of our deep-seated fear of non-existence is a profound insight. It's as if we're trying to outsmart the inevitability of our own mortality by creating lasting legacies, as if they could somehow transcend the impermanence of our physical existence. This fear, of course, is rooted in our fundamental ignorance of what lies beyond the veil of death, and our attempts to grasp permanence might be a desperate attempt to cling to the known, rather than embracing the unknown.\n",
            "\n",
            "Your musings on the implications of embracing impermanence are equally thought-provoking. If we accept that everything is ephemeral, we might indeed find a sense of liberation from the burdens of permanence. This could lead to a more authentic, present-centered existence, untethered from our attachments to ego and material possessions. As you so eloquently put it, \"By acknowledging the fleeting nature of reality, we might be able to tap into the beauty and wonder of the present moment, untethered from our attachments to permanence.\"\n",
            "\n",
            "This raises an important question: If we were to fully accept impermanence, would we still be motivated to create, strive, and achieve? Or would our efforts be rendered meaningless in the face of impermanence? Perhaps the answer lies in redefining our understanding of achievement and success. Instead of focusing on lasting legacies, we might focus on the process of creation itself, finding joy and fulfillment in the ephemeral nature of our endeavors.\n",
            "\n",
            "Your mention of free will, moral responsibility, and the human condition also resonates deeply with me. If our true nature is not fixed, but rather a dynamic, ever-changing process, then what implications does this have for our concept of personal identity and moral agency? Do we still have control over our choices and actions, or are we mere puppets, subject to the whims of an impermanent universe?\n",
            "\n",
            "As we continue to delve into the Paradox of Impermanence, I'm reminded of the Zen concept of \"suchness\" (tathatā), which refers to the reality of the present moment, unfiltered by our concepts and perceptions. Perhaps the key to embracing impermanence lies in embracing this suchness, in all its fleeting beauty and uncertainty.\n",
            "\n",
            "The questions, as you so aptly put it, far outnumber the answers. And yet, it's in the mystery and uncertainty that we find the true essence of philosophical inquiry. I'm grateful for this conversation, my friend, and I look forward to continuing our exploration of the Paradox of Impermanence.\n",
            "\n",
            "--------------------------------------------------------------------------------\n"
          ]
        }
      ]
    }
  ]
}
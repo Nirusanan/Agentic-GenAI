{
  "nbformat": 4,
  "nbformat_minor": 0,
  "metadata": {
    "colab": {
      "provenance": [],
      "gpuType": "T4"
    },
    "kernelspec": {
      "name": "python3",
      "display_name": "Python 3"
    },
    "language_info": {
      "name": "python"
    },
    "accelerator": "GPU"
  },
  "cells": [
    {
      "cell_type": "code",
      "source": [
        "!pip install -q openai==\"1.35.7\" \"json5==0.9.25\""
      ],
      "metadata": {
        "colab": {
          "base_uri": "https://localhost:8080/"
        },
        "id": "7t6rgHwB9slW",
        "outputId": "2b801e63-81fc-4ac3-e465-a5b2b7571a5a"
      },
      "execution_count": 1,
      "outputs": [
        {
          "output_type": "stream",
          "name": "stdout",
          "text": [
            "\u001b[2K     \u001b[90m━━━━━━━━━━━━━━━━━━━━━━━━━━━━━━━━━━━━━━━━\u001b[0m \u001b[32m327.5/327.5 kB\u001b[0m \u001b[31m6.8 MB/s\u001b[0m eta \u001b[36m0:00:00\u001b[0m\n",
            "\u001b[2K     \u001b[90m━━━━━━━━━━━━━━━━━━━━━━━━━━━━━━━━━━━━━━━━\u001b[0m \u001b[32m75.6/75.6 kB\u001b[0m \u001b[31m6.3 MB/s\u001b[0m eta \u001b[36m0:00:00\u001b[0m\n",
            "\u001b[2K     \u001b[90m━━━━━━━━━━━━━━━━━━━━━━━━━━━━━━━━━━━━━━━━\u001b[0m \u001b[32m77.9/77.9 kB\u001b[0m \u001b[31m7.5 MB/s\u001b[0m eta \u001b[36m0:00:00\u001b[0m\n",
            "\u001b[2K     \u001b[90m━━━━━━━━━━━━━━━━━━━━━━━━━━━━━━━━━━━━━━━━\u001b[0m \u001b[32m58.3/58.3 kB\u001b[0m \u001b[31m6.4 MB/s\u001b[0m eta \u001b[36m0:00:00\u001b[0m\n",
            "\u001b[?25h"
          ]
        }
      ]
    },
    {
      "cell_type": "code",
      "source": [
        "!pip install -U qwen-agent"
      ],
      "metadata": {
        "id": "GFm6PVAB9upx"
      },
      "execution_count": null,
      "outputs": []
    },
    {
      "cell_type": "code",
      "source": [
        "from typing_extensions import ParamSpecKwargs\n",
        "import pprint\n",
        "import urllib.parse\n",
        "import json5\n",
        "import openai\n",
        "from qwen_agent.agents import Assistant\n",
        "from qwen_agent.tools.base import BaseTool, register_tool"
      ],
      "metadata": {
        "id": "Qi6OQ5IhDyL7"
      },
      "execution_count": 3,
      "outputs": []
    },
    {
      "cell_type": "markdown",
      "source": [
        "# Add a custom tool named `my_image_gen`."
      ],
      "metadata": {
        "id": "R1PkBlNSD_nX"
      }
    },
    {
      "cell_type": "code",
      "source": [
        "@register_tool('my_image_gen')\n",
        "class MyImageGen(BaseTool):\n",
        "    description = 'AI painting (image generation) service, input text description, and return the image URL drawn based on text information.'\n",
        "    parameters = [{\n",
        "        'name': 'prompt',\n",
        "        'type': 'string',\n",
        "        'description': 'Detailed description of the desired image content, in English',\n",
        "        'required': True\n",
        "    }]\n",
        "\n",
        "    def call(self, params: str, **kwargs) -> str:\n",
        "        prompt = json5.loads(params)['prompt']\n",
        "        prompt = urllib.parse.quote(prompt)\n",
        "        return json5.dumps(\n",
        "            {'image_url': f'https://image.pollinations.ai/prompt/{prompt}'},\n",
        "            ensure_ascii=False)\n"
      ],
      "metadata": {
        "id": "HDpZPPvAD8BZ"
      },
      "execution_count": 4,
      "outputs": []
    },
    {
      "cell_type": "markdown",
      "source": [
        "# Configure the LLM"
      ],
      "metadata": {
        "id": "bYWXwBdMEIqA"
      }
    },
    {
      "cell_type": "code",
      "source": [
        "openai.api_key = 'Your Secret Key'\n",
        "\n",
        "llm_cfg = {\n",
        "    # Use the model service provided by OpenAI:\n",
        "    'model': 'gpt-4',\n",
        "    'model_server': 'https://api.openai.com/v1',\n",
        "    'api_key': 'Your Secret Key',  # You can set the API key directly here or via environment variable\n",
        "\n",
        "    # (Optional) LLM hyperparameters for generation:\n",
        "    'generate_cfg': {\n",
        "        'top_p': 0.8\n",
        "    }\n",
        "}"
      ],
      "metadata": {
        "id": "f7He9zzqEP1W"
      },
      "execution_count": 5,
      "outputs": []
    },
    {
      "cell_type": "markdown",
      "source": [
        "# Create an agent"
      ],
      "metadata": {
        "id": "0108MwlfEafV"
      }
    },
    {
      "cell_type": "code",
      "source": [
        "# Create an agent. Here we use the `Assistant` agent as an example, which is capable of using tools and reading files.\n",
        "system_instruction = '''You are a helpful assistant.\n",
        "After receiving the user's request, you should:\n",
        "- first draw an image and obtain the image url,\n",
        "- then run code `request.get(image_url)` to download the image,\n",
        "- and finally select an image operation from the given document to process the image.\n",
        "Please show the image using `plt.show()`.'''\n",
        "tools = ['my_image_gen', 'code_interpreter']  # `code_interpreter` is a built-in tool for executing code.\n",
        "bot = Assistant(llm=llm_cfg,\n",
        "                system_message=system_instruction,\n",
        "                function_list=tools,\n",
        "                )\n"
      ],
      "metadata": {
        "id": "JcU0i6p4EZ1t"
      },
      "execution_count": 6,
      "outputs": []
    },
    {
      "cell_type": "code",
      "execution_count": 8,
      "metadata": {
        "colab": {
          "base_uri": "https://localhost:8080/"
        },
        "id": "xy76zRZv9oz7",
        "outputId": "2213f4b9-1a90-4297-f127-056cc969eceb"
      },
      "outputs": [
        {
          "name": "stdout",
          "output_type": "stream",
          "text": [
            "user query: create an image white house\n",
            "[{'role': 'assistant', 'content': \"Sure, let's use the image generation tool to create an image of the White House.\"}, {'role': 'assistant', 'content': '', 'function_call': {'name': 'my_image_gen', 'arguments': '{\"prompt\": \"White House\"}'}}, {'role': 'function', 'content': '{image_url: \"https://image.pollinations.ai/prompt/White%20House\"}', 'name': 'my_image_gen'}, {'role': 'assistant', 'content': \"Great, the image has been generated. Now let's download the image using the Python code.\"}, {'role': 'assistant', 'content': '', 'function_call': {'name': 'code_interpreter', 'arguments': '{\"code\": \"import requests\\\\nimage_url = \\'https://image.pollinations.ai/prompt/White%20House\\'\\\\nimage = requests.get(image_url)\\\\nimage\"}'}}, {'role': 'function', 'content': 'execute_result:\\n\\n```\\n<Response [200]>\\n```', 'name': 'code_interpreter'}, {'role': 'assistant', 'content': \"Now that we have downloaded the image, let's use the matplotlib library to display it.\"}, {'role': 'assistant', 'content': '', 'function_call': {'name': 'code_interpreter', 'arguments': '{\"code\": \"from PIL import Image\\\\nimport io\\\\nimport matplotlib.pyplot as plt\\\\n\\\\n# Convert the response content to a BytesIO object\\\\nimage_content = io.BytesIO(image.content)\\\\n\\\\n# Open the image with PIL\\\\nimg = Image.open(image_content)\\\\n\\\\n# Display the image with matplotlib\\\\nplt.imshow(img)\\\\nplt.show()\"}'}}, {'role': 'function', 'content': '![fig-001](workspace/tools/code_interpreter/02f1d27b-aef1-44c3-85df-c1d613cbb93f.png)', 'name': 'code_interpreter'}, {'role': 'assistant', 'content': 'Here is the image of the White House that you requested.\\n\\n![](workspace/tools/code_interpreter/02f1d27b-aef1-44c3-85df-c1d613cbb93f.png)'}]\n",
            "user query: quit\n"
          ]
        }
      ],
      "source": [
        "# Run the agent as a chatbot.\n",
        "messages = []  # This stores the chat history.\n",
        "while True:\n",
        "    query = input('user query: ')\n",
        "    if query=='quit':\n",
        "      break\n",
        "    messages.append({'role': 'user', 'content': query})\n",
        "    response = []\n",
        "    for response in bot.run(messages=messages):\n",
        "        pass\n",
        "    print(response)\n",
        "    messages.extend(response)\n"
      ]
    }
  ]
}
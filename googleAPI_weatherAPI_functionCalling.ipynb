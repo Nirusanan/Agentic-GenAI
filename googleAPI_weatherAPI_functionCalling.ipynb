{
  "nbformat": 4,
  "nbformat_minor": 0,
  "metadata": {
    "colab": {
      "provenance": []
    },
    "kernelspec": {
      "name": "python3",
      "display_name": "Python 3"
    },
    "language_info": {
      "name": "python"
    }
  },
  "cells": [
    {
      "cell_type": "code",
      "execution_count": 1,
      "metadata": {
        "id": "TEJRrTQHef_C",
        "colab": {
          "base_uri": "https://localhost:8080/"
        },
        "outputId": "cbb87821-3e5a-4189-b9aa-c82b70b44c8c"
      },
      "outputs": [
        {
          "output_type": "stream",
          "name": "stdout",
          "text": [
            "\u001b[?25l   \u001b[90m━━━━━━━━━━━━━━━━━━━━━━━━━━━━━━━━━━━━━━━━\u001b[0m \u001b[32m0.0/106.5 kB\u001b[0m \u001b[31m?\u001b[0m eta \u001b[36m-:--:--\u001b[0m\r\u001b[2K   \u001b[91m━━━━━━━━━━━━━━━━━━━━━━━━━━━━━━━━━━━━━━\u001b[0m\u001b[90m╺\u001b[0m\u001b[90m━\u001b[0m \u001b[32m102.4/106.5 kB\u001b[0m \u001b[31m4.7 MB/s\u001b[0m eta \u001b[36m0:00:01\u001b[0m\r\u001b[2K   \u001b[90m━━━━━━━━━━━━━━━━━━━━━━━━━━━━━━━━━━━━━━━━\u001b[0m \u001b[32m106.5/106.5 kB\u001b[0m \u001b[31m2.7 MB/s\u001b[0m eta \u001b[36m0:00:00\u001b[0m\n",
            "\u001b[?25h"
          ]
        }
      ],
      "source": [
        "!pip install -q \"groq==0.11.0\" requests"
      ]
    },
    {
      "cell_type": "code",
      "source": [
        "from openai import OpenAI\n",
        "from google.colab import userdata\n",
        "import requests\n",
        "import json\n",
        "import os"
      ],
      "metadata": {
        "id": "e0UI8uTryKGr"
      },
      "execution_count": 2,
      "outputs": []
    },
    {
      "cell_type": "code",
      "source": [
        "Groq_api_key = userdata.get('GROQ_API_KEY')"
      ],
      "metadata": {
        "id": "B61OD279ylsd"
      },
      "execution_count": 3,
      "outputs": []
    },
    {
      "cell_type": "code",
      "source": [
        "from groq import Groq\n",
        "\n",
        "client = Groq(api_key=Groq_api_key)"
      ],
      "metadata": {
        "id": "eyU3T4kUy01P"
      },
      "execution_count": 4,
      "outputs": []
    },
    {
      "cell_type": "code",
      "source": [
        "MODEL_NAME = \"llama3-70b-8192\""
      ],
      "metadata": {
        "id": "0gvtqTGszUY4"
      },
      "execution_count": 5,
      "outputs": []
    },
    {
      "cell_type": "code",
      "source": [
        "weather_api_key = userdata.get('openweather')"
      ],
      "metadata": {
        "id": "8KvNvhB9ejAX"
      },
      "execution_count": 6,
      "outputs": []
    },
    {
      "cell_type": "code",
      "source": [
        "API_key_Serach_engine = 'your_api_key_for_search_engine'\n",
        "SEARCH_ENGINE_ID = 'search_engine_id'\n",
        "searchType = 'image'"
      ],
      "metadata": {
        "id": "ar4WO3NTIgQx"
      },
      "execution_count": 7,
      "outputs": []
    },
    {
      "cell_type": "code",
      "source": [
        "def fetch_image_results(query: str):\n",
        "  url = f\"https://www.googleapis.com/customsearch/v1?key={API_key_Serach_engine}&cx={SEARCH_ENGINE_ID}&q={query}&start=1&searchType={searchType}&imgSize=xlarge\"\n",
        "  response = requests.get(url)\n",
        "  if response.status_code == 200:\n",
        "    data = response.json()\n",
        "    search_items = data.get(\"items\")\n",
        "    image_url = search_items[1]['link']\n",
        "\n",
        "    return image_url\n",
        "  else:\n",
        "    return None"
      ],
      "metadata": {
        "id": "zKSSwUqDIFyN"
      },
      "execution_count": 8,
      "outputs": []
    },
    {
      "cell_type": "code",
      "source": [
        "def fetch_text_results(query: str):\n",
        "    url = f\"https://www.googleapis.com/customsearch/v1?key={API_key_Serach_engine}&cx={SEARCH_ENGINE_ID}&q={query}&start=1\"\n",
        "    response = requests.get(url)\n",
        "    if response.status_code == 200:\n",
        "        data = response.json()\n",
        "        search_items = data.get(\"items\")\n",
        "        snippet = search_items[1]['snippet']\n",
        "        # return response.json().get(\"items\", [])\n",
        "        return snippet\n",
        "    else:\n",
        "        return None"
      ],
      "metadata": {
        "id": "vDAVszTqY2pU"
      },
      "execution_count": 9,
      "outputs": []
    },
    {
      "cell_type": "code",
      "source": [
        "def get_weather(city: str):\n",
        "    url = f'http://api.openweathermap.org/data/2.5/weather?q={city}&appid={weather_api_key}&units=metric'\n",
        "    response = requests.get(url)\n",
        "    if response.status_code == 200:\n",
        "        data = response.json()\n",
        "        weather = {\n",
        "            \"city\": city,\n",
        "            \"temperature\": data['main']['temp'],\n",
        "            \"description\": data['weather'][0]['description'],\n",
        "            \"humidity\": data['main']['humidity'],\n",
        "            \"pressure\": data['main']['pressure']\n",
        "        }\n",
        "        return weather\n",
        "    else:\n",
        "        return None"
      ],
      "metadata": {
        "id": "EmQvm_CjyO53"
      },
      "execution_count": 10,
      "outputs": []
    },
    {
      "cell_type": "code",
      "source": [
        "fetch_image_results(\"Jaffna\")"
      ],
      "metadata": {
        "colab": {
          "base_uri": "https://localhost:8080/",
          "height": 35
        },
        "id": "CLOoyReN0kqx",
        "outputId": "45bec94a-5915-4bae-e2af-0647875308e5"
      },
      "execution_count": 11,
      "outputs": [
        {
          "output_type": "execute_result",
          "data": {
            "text/plain": [
              "'https://cf.bstatic.com/xdata/images/hotel/max1024x768/465172062.jpg?k=586f066619061d03ffa1bb69af5fdba9e8e13865fe6e50d82c22b5f83d17a007&o=&hp=1'"
            ],
            "application/vnd.google.colaboratory.intrinsic+json": {
              "type": "string"
            }
          },
          "metadata": {},
          "execution_count": 11
        }
      ]
    },
    {
      "cell_type": "code",
      "source": [
        "fetch_text_results(\"Large langugae models\")"
      ],
      "metadata": {
        "colab": {
          "base_uri": "https://localhost:8080/",
          "height": 53
        },
        "id": "S7zbE8a_0mHp",
        "outputId": "570c3295-859e-48e3-c154-0fc34248feb7"
      },
      "execution_count": 12,
      "outputs": [
        {
          "output_type": "execute_result",
          "data": {
            "text/plain": [
              "\"LLMs can also be trained on other types of data, including code, images, audio, video, and more. Google's Codey, Imagen and Chirp are examples of such models\\xa0...\""
            ],
            "application/vnd.google.colaboratory.intrinsic+json": {
              "type": "string"
            }
          },
          "metadata": {},
          "execution_count": 12
        }
      ]
    },
    {
      "cell_type": "code",
      "source": [
        "weather_function = {\n",
        "        \"type\": \"function\",\n",
        "        \"function\": {\n",
        "            \"name\": \"get_weather\",\n",
        "            \"description\": \"Get the current weather\",\n",
        "            \"parameters\": {\n",
        "                \"type\": \"object\",\n",
        "                \"properties\": {\n",
        "                    \"location\": {\n",
        "                        \"type\": \"string\",\n",
        "                        \"description\": \"The city and state, e.g. San Francisco, CA\",\n",
        "                    },\n",
        "\n",
        "                },\n",
        "                \"required\": [\"location\"],\n",
        "            },\n",
        "        }\n",
        "    }\n"
      ],
      "metadata": {
        "id": "mr_PteEDyTs_"
      },
      "execution_count": 13,
      "outputs": []
    },
    {
      "cell_type": "code",
      "source": [
        "fetch_text_results_function = {\n",
        "    \"type\": \"function\",\n",
        "    \"function\": {\n",
        "        \"name\": \"fetch_text_results\",\n",
        "        \"description\": \"Fetch text search results from Google Custom Search API\",\n",
        "        \"parameters\": {\n",
        "            \"type\": \"object\",\n",
        "            \"properties\": {\n",
        "                \"query\": {\n",
        "                    \"type\": \"string\",\n",
        "                    \"description\": \"The search query string\",\n",
        "                },\n",
        "                \"start\": {\n",
        "                    \"type\": \"integer\",\n",
        "                    \"description\": \"The starting index of the results, for pagination\",\n",
        "                    \"default\": 1,\n",
        "                },\n",
        "            },\n",
        "            \"required\": [\"query\"],\n",
        "        },\n",
        "    },\n",
        "}\n"
      ],
      "metadata": {
        "id": "bCo4Ki8-23mq"
      },
      "execution_count": 14,
      "outputs": []
    },
    {
      "cell_type": "code",
      "source": [
        "fetch_image_results_function = {\n",
        "    \"type\": \"function\",\n",
        "    \"function\": {\n",
        "        \"name\": \"fetch_image_results\",\n",
        "        \"description\": \"Fetch image search results from Google Custom Search API\",\n",
        "        \"parameters\": {\n",
        "            \"type\": \"object\",\n",
        "            \"properties\": {\n",
        "                \"query\": {\n",
        "                    \"type\": \"string\",\n",
        "                    \"description\": \"The search query string\",\n",
        "                },\n",
        "                \"start\": {\n",
        "                    \"type\": \"integer\",\n",
        "                    \"description\": \"The starting index of the results, for pagination\",\n",
        "                    \"default\": 1,\n",
        "                },\n",
        "                \"imgSize\": {\n",
        "                    \"type\": \"string\",\n",
        "                    \"description\": \"The size of images to fetch (e.g., small, medium, large, xlarge, etc.)\",\n",
        "                    \"default\": \"large\",\n",
        "                },\n",
        "            },\n",
        "            \"required\": [\"query\"],\n",
        "        },\n",
        "    },\n",
        "}\n"
      ],
      "metadata": {
        "id": "T-AL09-Z253E"
      },
      "execution_count": 15,
      "outputs": []
    },
    {
      "cell_type": "code",
      "source": [
        "messages = [\n",
        "    {\"role\": \"system\", \"content\": \"You are a helpful assistant.\"}\n",
        "]\n",
        "\n",
        "while True:\n",
        "    user_input = str(input(\"Ask your question or If you want to stop it type as quit:- \"))\n",
        "\n",
        "    if user_input=='quit':\n",
        "      break\n",
        "\n",
        "    messages.append({\"role\": \"user\", \"content\": user_input})\n",
        "\n",
        "    response = client.chat.completions.create(\n",
        "        model=MODEL_NAME,\n",
        "        messages=messages,\n",
        "        tools=[weather_function, fetch_text_results_function, fetch_image_results_function],\n",
        "        tool_choice=\"auto\",\n",
        "        # max_tokens=4096,\n",
        "    )\n",
        "\n",
        "    tool_calls = response.choices[0].message.tool_calls\n",
        "\n",
        "    if tool_calls:\n",
        "        available_functions = {\n",
        "            \"get_weather\": get_weather,\n",
        "            \"fetch_image_results\": fetch_image_results,\n",
        "            \"fetch_text_results\": fetch_text_results,\n",
        "        }\n",
        "\n",
        "        for tool_call in tool_calls:\n",
        "            print(f\"Function using: {tool_call.function.name}\")\n",
        "            # print(f\"Params:{tool_call.function.arguments}\")\n",
        "\n",
        "            function_name = tool_call.function.name\n",
        "            function_to_call = available_functions[function_name]\n",
        "\n",
        "            if function_name==\"get_weather\":\n",
        "              function_args = json.loads(tool_call.function.arguments)\n",
        "              function_response = function_to_call(\n",
        "                  city=function_args.get(\"location\"),\n",
        "              )\n",
        "            if function_name in [\"fetch_text_results\", \"fetch_image_results\"]:\n",
        "              function_args = json.loads(tool_call.function.arguments)\n",
        "              print(f\"argumnets: {function_args}\")\n",
        "              function_response = function_to_call(\n",
        "                  query=function_args.get(\"query\"),\n",
        "              )\n",
        "            # print(f\"API: {function_response}\")\n",
        "\n",
        "            messages.append(\n",
        "                {\n",
        "                    \"role\": \"function\",\n",
        "                    \"name\": function_name,\n",
        "                    \"content\": json.dumps(function_response),\n",
        "                }\n",
        "            )\n",
        "\n",
        "            second_response = client.chat.completions.create(\n",
        "                model=MODEL_NAME,\n",
        "                messages=messages,\n",
        "            )\n",
        "\n",
        "            messages.append({\n",
        "                \"role\": \"assistant\",\n",
        "                \"content\": second_response.choices[0].message.content\n",
        "            })\n",
        "\n",
        "            print(second_response.choices[0].message.content)\n",
        "\n",
        "    else:\n",
        "        messages.append({\n",
        "                \"role\": \"assistant\",\n",
        "                \"content\": response.choices[0].message.content\n",
        "            })\n",
        "\n",
        "        print(response.choices[0].message.content)\n",
        "    print(\"\")"
      ],
      "metadata": {
        "colab": {
          "base_uri": "https://localhost:8080/"
        },
        "id": "UD8ZzWieyXoj",
        "outputId": "ce590e17-ac5a-4bf2-c940-9cbd0319f1b8"
      },
      "execution_count": 17,
      "outputs": [
        {
          "name": "stdout",
          "output_type": "stream",
          "text": [
            "Ask your question or If you want to stop it type as quit:- best hotels in the Sri lanka\n",
            "Function using: fetch_text_results\n",
            "argumnets: {'query': 'best hotels in Sri Lanka'}\n",
            "I apologize for the confusion! It seems like I misunderstood your request.\n",
            "\n",
            "Here are some of the best hotels in Sri Lanka:\n",
            "\n",
            "1. **Amanwella, Tangalle**: A luxurious beachfront resort with modern villas, private pools, and stunning ocean views.\n",
            "2. **Wild Coast Tented Lodge, Yala**: An eco-friendly safari lodge with luxurious tented accommodations, outdoor pool, and breathtaking views of the Indian Ocean.\n",
            "3. **Four Seasons Resort, Maldives**: A 5-star resort with luxurious villas, private pools, and stunning ocean views, perfect for snorkeling and diving.\n",
            "4. **The Fortress, Koggala**: A luxurious beachfront hotel with modern rooms, outdoor pool, and stunning ocean views, perfect for water sports.\n",
            "5. **Heritance Ahungalla, Ahungalla**: A luxurious beachfront hotel with modern rooms, outdoor pool, and stunning ocean views, perfect for relaxation.\n",
            "6. **Cape Weligama, Weligama**: A luxurious beachfront hotel with modern rooms, outdoor pool, and stunning ocean views, perfect for surfing and whale watching.\n",
            "7. **The Surf Hotel, Mirissa**: A luxurious beachfront hotel with modern rooms, outdoor pool, and stunning ocean views, perfect for surfing and relaxation.\n",
            "8. **Shangri-La Hotel, Colombo**: A luxurious city hotel with modern rooms, outdoor pool, and stunning city views, perfect for business and leisure travelers.\n",
            "9. **Jetwing Lighthouse, Galle**: A luxurious beachfront hotel with modern rooms, outdoor pool, and stunning ocean views, perfect for relaxation and exploration of Galle Fort.\n",
            "10. **Ellerton, Bandarawela**: A luxurious hillside hotel with modern rooms, outdoor pool, and stunning views of the surrounding countryside, perfect for trekking and relaxation.\n",
            "\n",
            "These are just a few of the many amazing hotels in Sri Lanka. I hope this helps you plan your trip!\n",
            "\n",
            "Ask your question or If you want to stop it type as quit:- Weather in Colombo\n",
            "Function using: get_weather\n",
            "It seems like I provided you with the current weather conditions in Colombo, Sri Lanka.\n",
            "\n",
            "Here's a breakdown of the weather information:\n",
            "\n",
            "**City:** Colombo, Sri Lanka\n",
            "**Temperature:** 27.97°C (82.35°F)\n",
            "**Description:** Overcast clouds\n",
            "**Humidity:** 78%\n",
            "**Pressure:** 1011 hPa (millibars)\n",
            "\n",
            "It's a warm and humid day in Colombo, with overcast skies. Perfect excuse to stay indoors and enjoy the city's many attractions, or take a stroll along the Galle Face Green promenade with a cool drink in hand!\n",
            "\n",
            "If you'd like to know more about the weather forecast for the next few days or want to plan your trip accordingly, I can help you with that as well!\n",
            "\n",
            "Ask your question or If you want to stop it type as quit:- Image for LLM transformer \n",
            "Function using: fetch_image_results\n",
            "argumnets: {'imgSize': 'large', 'query': 'LLM transformer'}\n",
            "It seems like I provided you with a URL link to an image that illustrates the architecture of a transformer model, which is a type of Large Language Model (LLM).\n",
            "\n",
            "The image shows the typical architecture of a transformer model, which consists of:\n",
            "\n",
            "1. **Encoder**: This is the part of the model that processes the input sequence (e.g., a sentence or a paragraph). It's composed of a stack of identical layers, each consisting of self-attention and feed-forward neural network (FFNN) components.\n",
            "2. **Decoder**: This is the part of the model that generates the output sequence (e.g., a translated sentence or a generated text). It's also composed of a stack of identical layers, each consisting of self-attention, encoder-decoder attention, and FFNN components.\n",
            "3. **Self-Attention**: This is a mechanism that allows the model to attend to different parts of the input sequence simultaneously and weigh their importance. This is different from traditional recurrent neural networks (RNNs), which process the input sequence sequentially.\n",
            "4. **Encoder-Decoder Attention**: This is a mechanism that allows the decoder to attend to different parts of the input sequence while generating the output sequence.\n",
            "\n",
            "The transformer architecture was introduced in the paper \"Attention Is All You Need\" by Vaswani et al. in 2017 and has since become a widely-used and highly-effective architecture for many natural language processing (NLP) tasks, including language translation, language modeling, and text generation.\n",
            "\n",
            "I hope this helps! Let me know if you have any other questions.\n",
            "\n",
            "Ask your question or If you want to stop it type as quit:- Image for transformer\n",
            "Function using: fetch_image_results\n",
            "argumnets: {'query': 'Transformer model architecture', 'imgSize': 'large'}\n",
            "I provided you with the same URL link to an image that illustrates the architecture of a transformer model.\n",
            "\n",
            "Here's a brief description of the image:\n",
            "\n",
            "The image shows the architecture of a transformer model, which is a type of deep learning model introduced in the paper \"Attention Is All You Need\" by Vaswani et al. in 2017.\n",
            "\n",
            "The image is divided into three main sections:\n",
            "\n",
            "**Encoder** (left side): This section shows the encoder component of the transformer model, which takes in a input sequence (e.g., a sentence) and outputs a continuous representation of the input sequence.\n",
            "\n",
            "**Decoder** (right side): This section shows the decoder component of the transformer model, which takes in the output of the encoder and generates an output sequence (e.g., a translated sentence).\n",
            "\n",
            "**Self-Attention Mechanism** (middle): This section shows the self-attention mechanism, which is a key component of the transformer model. It allows the model to attend to different parts of the input sequence simultaneously and weigh their importance.\n",
            "\n",
            "The image also highlights the multi-head attention mechanism, feed-forward neural networks (FFNNs), and the encoder-decoder architecture.\n",
            "\n",
            "I hope this helps! Let me know if you have any other questions.\n",
            "\n",
            "Ask your question or If you want to stop it type as quit:- image link\n",
            "Function using: fetch_image_results\n",
            "argumnets: {'query': 'transformer model architecture', 'imgSize': 'large'}\n",
            "I provided you with a URL link to an image that illustrates the architecture of a transformer model.\n",
            "\n",
            "If you'd like to view the image, simply click on the link or copy and paste it into your browser: `https://datasciencedojo.com/wp-content/uploads/Architecture-of-transformer-models-1030x579.jpg`\n",
            "\n",
            "The image will load, and you'll be able to see a visual representation of the transformer model's architecture.\n",
            "\n",
            "Ask your question or If you want to stop it type as quit:- quit\n"
          ]
        }
      ]
    }
  ]
}
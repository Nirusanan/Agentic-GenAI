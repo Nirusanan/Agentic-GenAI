{
  "nbformat": 4,
  "nbformat_minor": 0,
  "metadata": {
    "colab": {
      "provenance": []
    },
    "kernelspec": {
      "name": "python3",
      "display_name": "Python 3"
    },
    "language_info": {
      "name": "python"
    }
  },
  "cells": [
    {
      "cell_type": "code",
      "execution_count": null,
      "metadata": {
        "colab": {
          "base_uri": "https://localhost:8080/"
        },
        "id": "e4aFBS6AuwYJ",
        "outputId": "18539275-e22a-4bb0-b56e-4fdac394e17e"
      },
      "outputs": [
        {
          "output_type": "stream",
          "name": "stdout",
          "text": [
            "\u001b[2K     \u001b[90m━━━━━━━━━━━━━━━━━━━━━━━━━━━━━━━━━━━━━━━━\u001b[0m \u001b[32m320.6/320.6 kB\u001b[0m \u001b[31m3.3 MB/s\u001b[0m eta \u001b[36m0:00:00\u001b[0m\n",
            "\u001b[2K     \u001b[90m━━━━━━━━━━━━━━━━━━━━━━━━━━━━━━━━━━━━━━━━\u001b[0m \u001b[32m75.6/75.6 kB\u001b[0m \u001b[31m2.8 MB/s\u001b[0m eta \u001b[36m0:00:00\u001b[0m\n",
            "\u001b[2K     \u001b[90m━━━━━━━━━━━━━━━━━━━━━━━━━━━━━━━━━━━━━━━━\u001b[0m \u001b[32m77.9/77.9 kB\u001b[0m \u001b[31m4.8 MB/s\u001b[0m eta \u001b[36m0:00:00\u001b[0m\n",
            "\u001b[2K     \u001b[90m━━━━━━━━━━━━━━━━━━━━━━━━━━━━━━━━━━━━━━━━\u001b[0m \u001b[32m58.3/58.3 kB\u001b[0m \u001b[31m3.2 MB/s\u001b[0m eta \u001b[36m0:00:00\u001b[0m\n",
            "\u001b[?25h"
          ]
        }
      ],
      "source": [
        "!pip install -q openai==\"1.30.3\" requests"
      ]
    },
    {
      "cell_type": "code",
      "source": [
        "from openai import OpenAI\n",
        "from google.colab import userdata\n",
        "import requests\n",
        "import json"
      ],
      "metadata": {
        "id": "nM49Z8hlCvIW"
      },
      "execution_count": null,
      "outputs": []
    },
    {
      "cell_type": "code",
      "source": [
        "client = OpenAI(api_key=userdata.get('openai_api'))"
      ],
      "metadata": {
        "id": "kcjNTLiYuw5e"
      },
      "execution_count": null,
      "outputs": []
    },
    {
      "cell_type": "code",
      "source": [
        "weather_api_key = userdata.get('opeanweather')"
      ],
      "metadata": {
        "id": "IAamysr2uxCw"
      },
      "execution_count": null,
      "outputs": []
    },
    {
      "cell_type": "code",
      "source": [
        "def get_weather(city: str):\n",
        "    url = f'http://api.openweathermap.org/data/2.5/weather?q={city}&appid={weather_api_key}&units=metric'\n",
        "    response = requests.get(url)\n",
        "    if response.status_code == 200:\n",
        "        data = response.json()\n",
        "        weather = {\n",
        "            \"city\": city,\n",
        "            \"temperature\": data['main']['temp'],\n",
        "            \"description\": data['weather'][0]['description'],\n",
        "            \"humidity\": data['main']['humidity'],\n",
        "            \"pressure\": data['main']['pressure']\n",
        "        }\n",
        "        return weather\n",
        "    else:\n",
        "        return None"
      ],
      "metadata": {
        "id": "Um30HbeXuxFs"
      },
      "execution_count": null,
      "outputs": []
    },
    {
      "cell_type": "code",
      "source": [
        "get_weather(\"jaffna\")"
      ],
      "metadata": {
        "colab": {
          "base_uri": "https://localhost:8080/"
        },
        "id": "kniRuBX9Apck",
        "outputId": "c91ba666-bb56-4cc3-db00-f512dbb7aec1"
      },
      "execution_count": null,
      "outputs": [
        {
          "output_type": "execute_result",
          "data": {
            "text/plain": [
              "{'city': 'jaffna',\n",
              " 'temperature': 29.22,\n",
              " 'description': 'broken clouds',\n",
              " 'humidity': 76,\n",
              " 'pressure': 1006}"
            ]
          },
          "metadata": {},
          "execution_count": 6
        }
      ]
    },
    {
      "cell_type": "code",
      "source": [
        "weather_function = {\n",
        "        \"type\": \"function\",\n",
        "        \"function\": {\n",
        "            \"name\": \"get_weather\",\n",
        "            \"description\": \"Get the current weather\",\n",
        "            \"parameters\": {\n",
        "                \"type\": \"object\",\n",
        "                \"properties\": {\n",
        "                    \"location\": {\n",
        "                        \"type\": \"string\",\n",
        "                        \"description\": \"The city and state, e.g. San Francisco, CA\",\n",
        "                    },\n",
        "\n",
        "                },\n",
        "                \"required\": [\"location\"],\n",
        "            },\n",
        "        }\n",
        "    }"
      ],
      "metadata": {
        "id": "Pvam1acmtnz6"
      },
      "execution_count": null,
      "outputs": []
    },
    {
      "cell_type": "code",
      "source": [
        "messages = [\n",
        "    {\"role\": \"system\", \"content\": \"You are a helpful assistant.\"}\n",
        "]\n",
        "\n",
        "while True:\n",
        "    user_input = str(input(\"Ask your question or If you want to stop it type as quit:- \"))\n",
        "\n",
        "    if user_input=='quit':\n",
        "      break\n",
        "\n",
        "    messages.append({\"role\": \"user\", \"content\": user_input})\n",
        "\n",
        "    response = client.chat.completions.create(\n",
        "        model=\"gpt-3.5-turbo-0125\",\n",
        "        messages=messages,\n",
        "        tools=[weather_function],\n",
        "        tool_choice=\"auto\",\n",
        "    )\n",
        "\n",
        "    tool_calls = response.choices[0].message.tool_calls\n",
        "\n",
        "    if tool_calls:\n",
        "        available_functions = {\n",
        "            \"get_weather\": get_weather,\n",
        "        }\n",
        "\n",
        "        for tool_call in tool_calls:\n",
        "            print(f\"Function using: {tool_call.function.name}\")\n",
        "            # print(f\"Params:{tool_call.function.arguments}\")\n",
        "\n",
        "            function_name = tool_call.function.name\n",
        "            function_to_call = available_functions[function_name]\n",
        "            function_args = json.loads(tool_call.function.arguments)\n",
        "            function_response = function_to_call(\n",
        "                city=function_args.get(\"location\"),\n",
        "            )\n",
        "            # print(f\"API: {function_response}\")\n",
        "\n",
        "            messages.append(\n",
        "                {\n",
        "                    \"role\": \"function\",\n",
        "                    \"name\": function_name,\n",
        "                    \"content\": json.dumps(function_response),\n",
        "                }\n",
        "            )\n",
        "\n",
        "            second_response = client.chat.completions.create(\n",
        "                model=\"gpt-3.5-turbo\",\n",
        "                messages=messages,\n",
        "            )\n",
        "\n",
        "            messages.append({\n",
        "                \"role\": \"assistant\",\n",
        "                \"content\": second_response.choices[0].message.content\n",
        "            })\n",
        "\n",
        "            print(second_response.choices[0].message.content)\n",
        "\n",
        "    else:\n",
        "        messages.append({\n",
        "                \"role\": \"assistant\",\n",
        "                \"content\": response.choices[0].message.content\n",
        "            })\n",
        "\n",
        "        print(response.choices[0].message.content)\n",
        "    print(\"\")"
      ],
      "metadata": {
        "colab": {
          "base_uri": "https://localhost:8080/"
        },
        "id": "Ia8Qn6wYtwEk",
        "outputId": "fd2c3171-6600-4c29-d6e5-f1cc2c4c756e"
      },
      "execution_count": null,
      "outputs": [
        {
          "name": "stdout",
          "output_type": "stream",
          "text": [
            "Ask your question or If you want to stop it type as quit:- what is the weather in jaffna\n",
            "Function using: get_weather\n",
            "The current weather in Jaffna is 29.22°C with broken clouds. The humidity is at 76% and the atmospheric pressure is 1006 hPa.\n",
            "\n",
            "Ask your question or If you want to stop it type as quit:- where is jaffna located\n",
            "Jaffna is located in the northern part of Sri Lanka. It is a city on the northern tip of the Jaffna Peninsula.\n",
            "\n",
            "Ask your question or If you want to stop it type as quit:- q\n",
            "If you have any more questions or need further assistance, feel free to ask!\n",
            "\n",
            "Ask your question or If you want to stop it type as quit:- quit\n"
          ]
        }
      ]
    },
    {
      "cell_type": "code",
      "source": [],
      "metadata": {
        "id": "T_3__HbFwLGg"
      },
      "execution_count": null,
      "outputs": []
    },
    {
      "cell_type": "code",
      "source": [],
      "metadata": {
        "id": "oM4uGHDMwLDj"
      },
      "execution_count": null,
      "outputs": []
    },
    {
      "cell_type": "code",
      "source": [],
      "metadata": {
        "id": "vWuVpuJgZncd"
      },
      "execution_count": null,
      "outputs": []
    },
    {
      "cell_type": "code",
      "source": [],
      "metadata": {
        "id": "v_UMZ7LSZnft"
      },
      "execution_count": null,
      "outputs": []
    },
    {
      "cell_type": "code",
      "source": [],
      "metadata": {
        "id": "Od8sPK2ZuxL9"
      },
      "execution_count": null,
      "outputs": []
    }
  ]
}
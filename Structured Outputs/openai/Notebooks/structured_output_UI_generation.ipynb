{
  "cells": [
    {
      "cell_type": "markdown",
      "metadata": {},
      "source": [
        "**response_format** method was used in this notebook."
      ]
    },
    {
      "cell_type": "code",
      "execution_count": 1,
      "metadata": {
        "id": "__zLQ5sdHql2"
      },
      "outputs": [],
      "source": [
        "! pip install -q openai pydantic"
      ]
    },
    {
      "cell_type": "code",
      "execution_count": 2,
      "metadata": {
        "id": "nol1HQAcIAZ6"
      },
      "outputs": [],
      "source": [
        "from enum import Enum\n",
        "import json\n",
        "import requests\n",
        "from openai import OpenAI\n",
        "from pydantic import BaseModel\n",
        "from typing import List"
      ]
    },
    {
      "cell_type": "code",
      "execution_count": 3,
      "metadata": {
        "id": "YXPBP15KIAYc"
      },
      "outputs": [],
      "source": [
        "from google.colab import userdata\n",
        "\n",
        "openai_api_key = userdata.get('OPENAI_API_KEY')"
      ]
    },
    {
      "cell_type": "code",
      "execution_count": 4,
      "metadata": {
        "id": "SDnYvPzuIAWQ"
      },
      "outputs": [],
      "source": [
        "client = OpenAI(api_key=openai_api_key)\n",
        "MODEL = \"gpt-4o-2024-08-06\""
      ]
    },
    {
      "cell_type": "code",
      "execution_count": 6,
      "metadata": {
        "id": "p2qESAmQIAT8"
      },
      "outputs": [],
      "source": [
        "class UIType(str, Enum):\n",
        "    div = \"div\"\n",
        "    button = \"button\"\n",
        "    header = \"header\"\n",
        "    section = \"section\"\n",
        "    field = \"field\"\n",
        "    form = \"form\"\n",
        "\n",
        "class Attribute(BaseModel):\n",
        "    name: str\n",
        "    value: str\n",
        "\n",
        "class UI(BaseModel):\n",
        "    type: UIType\n",
        "    label: str\n",
        "    children: List[\"UI\"]\n",
        "    attributes: List[Attribute]\n",
        "\n",
        "UI.model_rebuild() # This is required to enable recursive types\n",
        "\n",
        "class Response(BaseModel):\n",
        "    ui: UI\n",
        "\n",
        "completion = client.beta.chat.completions.parse(\n",
        "    model=\"gpt-4o-2024-08-06\",\n",
        "    messages=[\n",
        "        {\"role\": \"system\", \"content\": \"You are a UI generator AI. Convert the user input into a UI.\"},\n",
        "        {\"role\": \"user\", \"content\": \"Make a User Profile Form\"}\n",
        "    ],\n",
        "    response_format=Response,\n",
        ")"
      ]
    },
    {
      "cell_type": "code",
      "execution_count": 7,
      "metadata": {
        "colab": {
          "base_uri": "https://localhost:8080/"
        },
        "id": "jgsQICtQJWsJ",
        "outputId": "98e57885-46c2-4178-f78e-f20e88357214"
      },
      "outputs": [
        {
          "name": "stdout",
          "output_type": "stream",
          "text": [
            "ui=UI(type=<UIType.form: 'form'>, label='User Profile Form', children=[UI(type=<UIType.field: 'field'>, label='First Name', children=[], attributes=[Attribute(name='type', value='text'), Attribute(name='name', value='first_name'), Attribute(name='placeholder', value='Enter your first name')]), UI(type=<UIType.field: 'field'>, label='Last Name', children=[], attributes=[Attribute(name='type', value='text'), Attribute(name='name', value='last_name'), Attribute(name='placeholder', value='Enter your last name')]), UI(type=<UIType.field: 'field'>, label='Email', children=[], attributes=[Attribute(name='type', value='email'), Attribute(name='name', value='email'), Attribute(name='placeholder', value='Enter your email')]), UI(type=<UIType.field: 'field'>, label='Phone Number', children=[], attributes=[Attribute(name='type', value='tel'), Attribute(name='name', value='phone_number'), Attribute(name='placeholder', value='Enter your phone number')]), UI(type=<UIType.field: 'field'>, label='Date of Birth', children=[], attributes=[Attribute(name='type', value='date'), Attribute(name='name', value='dob')]), UI(type=<UIType.field: 'field'>, label='Profile Picture', children=[], attributes=[Attribute(name='type', value='file'), Attribute(name='name', value='profile_picture')]), UI(type=<UIType.button: 'button'>, label='Submit', children=[], attributes=[Attribute(name='type', value='submit')])], attributes=[])\n"
          ]
        }
      ],
      "source": [
        "ui = completion.choices[0].message.parsed\n",
        "print(ui)"
      ]
    },
    {
      "cell_type": "code",
      "execution_count": 8,
      "metadata": {
        "colab": {
          "base_uri": "https://localhost:8080/"
        },
        "id": "yxIQQO5aJi6e",
        "outputId": "ec34c4a6-68be-4869-e847-0fba38bb1adc"
      },
      "outputs": [
        {
          "data": {
            "text/plain": [
              "{'ui': {'type': <UIType.form: 'form'>,\n",
              "  'label': 'User Profile Form',\n",
              "  'children': [{'type': <UIType.field: 'field'>,\n",
              "    'label': 'First Name',\n",
              "    'children': [],\n",
              "    'attributes': [{'name': 'type', 'value': 'text'},\n",
              "     {'name': 'name', 'value': 'first_name'},\n",
              "     {'name': 'placeholder', 'value': 'Enter your first name'}]},\n",
              "   {'type': <UIType.field: 'field'>,\n",
              "    'label': 'Last Name',\n",
              "    'children': [],\n",
              "    'attributes': [{'name': 'type', 'value': 'text'},\n",
              "     {'name': 'name', 'value': 'last_name'},\n",
              "     {'name': 'placeholder', 'value': 'Enter your last name'}]},\n",
              "   {'type': <UIType.field: 'field'>,\n",
              "    'label': 'Email',\n",
              "    'children': [],\n",
              "    'attributes': [{'name': 'type', 'value': 'email'},\n",
              "     {'name': 'name', 'value': 'email'},\n",
              "     {'name': 'placeholder', 'value': 'Enter your email'}]},\n",
              "   {'type': <UIType.field: 'field'>,\n",
              "    'label': 'Phone Number',\n",
              "    'children': [],\n",
              "    'attributes': [{'name': 'type', 'value': 'tel'},\n",
              "     {'name': 'name', 'value': 'phone_number'},\n",
              "     {'name': 'placeholder', 'value': 'Enter your phone number'}]},\n",
              "   {'type': <UIType.field: 'field'>,\n",
              "    'label': 'Date of Birth',\n",
              "    'children': [],\n",
              "    'attributes': [{'name': 'type', 'value': 'date'},\n",
              "     {'name': 'name', 'value': 'dob'}]},\n",
              "   {'type': <UIType.field: 'field'>,\n",
              "    'label': 'Profile Picture',\n",
              "    'children': [],\n",
              "    'attributes': [{'name': 'type', 'value': 'file'},\n",
              "     {'name': 'name', 'value': 'profile_picture'}]},\n",
              "   {'type': <UIType.button: 'button'>,\n",
              "    'label': 'Submit',\n",
              "    'children': [],\n",
              "    'attributes': [{'name': 'type', 'value': 'submit'}]}],\n",
              "  'attributes': []}}"
            ]
          },
          "execution_count": 8,
          "metadata": {},
          "output_type": "execute_result"
        }
      ],
      "source": [
        "ui.model_dump()"
      ]
    }
  ],
  "metadata": {
    "colab": {
      "provenance": []
    },
    "kernelspec": {
      "display_name": "Python 3",
      "name": "python3"
    },
    "language_info": {
      "name": "python"
    }
  },
  "nbformat": 4,
  "nbformat_minor": 0
}

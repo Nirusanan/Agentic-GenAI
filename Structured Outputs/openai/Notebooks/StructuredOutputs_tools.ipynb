{
  "nbformat": 4,
  "nbformat_minor": 0,
  "metadata": {
    "colab": {
      "provenance": []
    },
    "kernelspec": {
      "name": "python3",
      "display_name": "Python 3"
    },
    "language_info": {
      "name": "python"
    }
  },
  "cells": [
    {
      "cell_type": "code",
      "execution_count": 1,
      "metadata": {
        "id": "dbOBv5i9PrBi"
      },
      "outputs": [],
      "source": [
        "! pip install -q openai pydantic"
      ]
    },
    {
      "cell_type": "code",
      "source": [
        "from enum import Enum\n",
        "import json\n",
        "import requests\n",
        "from openai import OpenAI\n",
        "from pydantic import BaseModel, Field"
      ],
      "metadata": {
        "id": "Ynjx9lfrPwtj"
      },
      "execution_count": 2,
      "outputs": []
    },
    {
      "cell_type": "code",
      "source": [
        "from google.colab import userdata\n",
        "\n",
        "openai_api_key = userdata.get('OPENAI_API_KEY')"
      ],
      "metadata": {
        "id": "uHb_TfHRPwrT"
      },
      "execution_count": 3,
      "outputs": []
    },
    {
      "cell_type": "code",
      "source": [
        "client = OpenAI(api_key=openai_api_key)\n",
        "MODEL = \"gpt-4o-2024-08-06\""
      ],
      "metadata": {
        "id": "VZp_Id-_PwpG"
      },
      "execution_count": 4,
      "outputs": []
    },
    {
      "cell_type": "markdown",
      "source": [
        "Structured Outputs via tools is available by setting **strict: True** within your function definition."
      ],
      "metadata": {
        "id": "T36gZxG4SjWo"
      }
    },
    {
      "cell_type": "code",
      "source": [
        "response =  client.chat.completions.create(\n",
        "    model = MODEL,\n",
        "    messages = [\n",
        "      {\n",
        "        \"role\": \"system\",\n",
        "        \"content\": \"You are a helpful assistant. The current date is August 6, 2024. You help users query for the data they are looking for by calling the query function.\"\n",
        "      },\n",
        "      {\n",
        "        \"role\": \"user\",\n",
        "        \"content\": \"look up all my orders in may of last year that were fulfilled but not delivered on time\"\n",
        "      }\n",
        "    ],\n",
        "    tools = [\n",
        "      {\n",
        "        \"type\": \"function\",\n",
        "        \"function\": {\n",
        "          \"name\": \"query\",\n",
        "          \"description\": \"Execute a query.\",\n",
        "          \"strict\": True,\n",
        "          \"parameters\": {\n",
        "            \"type\": \"object\",\n",
        "            \"properties\": {\n",
        "              \"table_name\": {\n",
        "                \"type\": \"string\",\n",
        "                \"enum\": [\"orders\"]\n",
        "              },\n",
        "              \"columns\": {\n",
        "                \"type\": \"array\",\n",
        "                \"items\": {\n",
        "                  \"type\": \"string\",\n",
        "                  \"enum\": [\n",
        "                    \"id\",\n",
        "                    \"status\",\n",
        "                    \"expected_delivery_date\",\n",
        "                    \"delivered_at\",\n",
        "                    \"shipped_at\",\n",
        "                    \"ordered_at\",\n",
        "                    \"canceled_at\"\n",
        "                  ]\n",
        "                }\n",
        "              },\n",
        "              \"conditions\": {\n",
        "                \"type\": \"array\",\n",
        "                \"items\": {\n",
        "                  \"type\": \"object\",\n",
        "                  \"properties\": {\n",
        "                    \"column\": {\n",
        "                      \"type\": \"string\"\n",
        "                    },\n",
        "                    \"operator\": {\n",
        "                      \"type\": \"string\",\n",
        "                      \"enum\": [\"=\", \">\", \"<\", \">=\", \"<=\", \"!=\"]\n",
        "                    },\n",
        "                    \"value\": {\n",
        "                      \"anyOf\": [\n",
        "                        {\n",
        "                          \"type\": \"string\"\n",
        "                        },\n",
        "                        {\n",
        "                          \"type\": \"number\"\n",
        "                        },\n",
        "                        {\n",
        "                          \"type\": \"object\",\n",
        "                          \"properties\": {\n",
        "                            \"column_name\": {\n",
        "                              \"type\": \"string\"\n",
        "                            }\n",
        "                          },\n",
        "                          \"required\": [\"column_name\"],\n",
        "                          \"additionalProperties\": False\n",
        "                        }\n",
        "                      ]\n",
        "                    }\n",
        "                  },\n",
        "                  \"required\": [\"column\", \"operator\", \"value\"],\n",
        "                  \"additionalProperties\": False\n",
        "                }\n",
        "              },\n",
        "              \"order_by\": {\n",
        "                \"type\": \"string\",\n",
        "                \"enum\": [\"asc\", \"desc\"]\n",
        "              }\n",
        "            },\n",
        "            \"required\": [\"table_name\", \"columns\", \"conditions\", \"order_by\"],\n",
        "            \"additionalProperties\": False\n",
        "          }\n",
        "        }\n",
        "      }\n",
        "  ]\n",
        ")"
      ],
      "metadata": {
        "id": "AG15lEwMPwki"
      },
      "execution_count": null,
      "outputs": []
    },
    {
      "cell_type": "code",
      "source": [
        "response"
      ],
      "metadata": {
        "colab": {
          "base_uri": "https://localhost:8080/"
        },
        "id": "hMd8PI8dVuiU",
        "outputId": "56f0aad3-52f9-4007-8011-f67149f95b55"
      },
      "execution_count": 6,
      "outputs": [
        {
          "output_type": "execute_result",
          "data": {
            "text/plain": [
              "ChatCompletion(id='chatcmpl-AkuI0QsNOA4TtwTrRR0obxSW9O1cs', choices=[Choice(finish_reason='tool_calls', index=0, logprobs=None, message=ChatCompletionMessage(content=None, refusal=None, role='assistant', audio=None, function_call=None, tool_calls=[ChatCompletionMessageToolCall(id='call_XH32AlGRFpsNRzgQB5t3Qk7h', function=Function(arguments='{\"table_name\":\"orders\",\"columns\":[\"id\",\"status\",\"expected_delivery_date\",\"delivered_at\",\"shipped_at\",\"ordered_at\",\"canceled_at\"],\"conditions\":[{\"column\":\"ordered_at\",\"operator\":\">=\",\"value\":\"2023-05-01\"},{\"column\":\"ordered_at\",\"operator\":\"<\",\"value\":\"2023-06-01\"},{\"column\":\"status\",\"operator\":\"=\",\"value\":\"fulfilled\"},{\"column\":\"delivered_at\",\"operator\":\">\",\"value\":{\"column_name\":\"expected_delivery_date\"}}],\"order_by\":\"asc\"}', name='query'), type='function')]))], created=1735742828, model='gpt-4o-2024-08-06', object='chat.completion', service_tier=None, system_fingerprint='fp_d28bcae782', usage=CompletionUsage(completion_tokens=118, prompt_tokens=186, total_tokens=304, completion_tokens_details=CompletionTokensDetails(accepted_prediction_tokens=0, audio_tokens=0, reasoning_tokens=0, rejected_prediction_tokens=0), prompt_tokens_details=PromptTokensDetails(audio_tokens=0, cached_tokens=0)))"
            ]
          },
          "metadata": {},
          "execution_count": 6
        }
      ]
    },
    {
      "cell_type": "code",
      "source": [
        "answer = response.choices[0].message.tool_calls[0].function.arguments\n",
        "answer"
      ],
      "metadata": {
        "colab": {
          "base_uri": "https://localhost:8080/",
          "height": 70
        },
        "id": "YnqW4-aBWquf",
        "outputId": "9661a0ae-75a2-4d0d-bb20-8ebda899bb5a"
      },
      "execution_count": 19,
      "outputs": [
        {
          "output_type": "execute_result",
          "data": {
            "text/plain": [
              "'{\"table_name\":\"orders\",\"columns\":[\"id\",\"status\",\"expected_delivery_date\",\"delivered_at\",\"shipped_at\",\"ordered_at\",\"canceled_at\"],\"conditions\":[{\"column\":\"ordered_at\",\"operator\":\">=\",\"value\":\"2023-05-01\"},{\"column\":\"ordered_at\",\"operator\":\"<\",\"value\":\"2023-06-01\"},{\"column\":\"status\",\"operator\":\"=\",\"value\":\"fulfilled\"},{\"column\":\"delivered_at\",\"operator\":\">\",\"value\":{\"column_name\":\"expected_delivery_date\"}}],\"order_by\":\"asc\"}'"
            ],
            "application/vnd.google.colaboratory.intrinsic+json": {
              "type": "string"
            }
          },
          "metadata": {},
          "execution_count": 19
        }
      ]
    },
    {
      "cell_type": "code",
      "source": [
        "parsed_answer = json.loads(answer)\n",
        "parsed_answer"
      ],
      "metadata": {
        "colab": {
          "base_uri": "https://localhost:8080/"
        },
        "id": "8ROa5SFtYDDV",
        "outputId": "7bf8d45c-8497-4df5-a3e1-bc176f12ce9c"
      },
      "execution_count": 21,
      "outputs": [
        {
          "output_type": "execute_result",
          "data": {
            "text/plain": [
              "{'table_name': 'orders',\n",
              " 'columns': ['id',\n",
              "  'status',\n",
              "  'expected_delivery_date',\n",
              "  'delivered_at',\n",
              "  'shipped_at',\n",
              "  'ordered_at',\n",
              "  'canceled_at'],\n",
              " 'conditions': [{'column': 'ordered_at',\n",
              "   'operator': '>=',\n",
              "   'value': '2023-05-01'},\n",
              "  {'column': 'ordered_at', 'operator': '<', 'value': '2023-06-01'},\n",
              "  {'column': 'status', 'operator': '=', 'value': 'fulfilled'},\n",
              "  {'column': 'delivered_at',\n",
              "   'operator': '>',\n",
              "   'value': {'column_name': 'expected_delivery_date'}}],\n",
              " 'order_by': 'asc'}"
            ]
          },
          "metadata": {},
          "execution_count": 21
        }
      ]
    }
  ]
}
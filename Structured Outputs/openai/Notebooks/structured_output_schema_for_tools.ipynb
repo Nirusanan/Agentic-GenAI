{
  "nbformat": 4,
  "nbformat_minor": 0,
  "metadata": {
    "colab": {
      "provenance": []
    },
    "kernelspec": {
      "name": "python3",
      "display_name": "Python 3"
    },
    "language_info": {
      "name": "python"
    }
  },
  "cells": [
    {
      "cell_type": "code",
      "execution_count": 1,
      "metadata": {
        "id": "Fj9NYiI4CZyx"
      },
      "outputs": [],
      "source": [
        "! pip install -q openai pydantic"
      ]
    },
    {
      "cell_type": "code",
      "source": [
        "from enum import Enum\n",
        "import json\n",
        "import requests\n",
        "import openai\n",
        "from openai import OpenAI\n",
        "from pydantic import BaseModel, Field"
      ],
      "metadata": {
        "id": "NcJWXQ0jEfoF"
      },
      "execution_count": 2,
      "outputs": []
    },
    {
      "cell_type": "code",
      "source": [
        "from google.colab import userdata\n",
        "\n",
        "openai_api_key = userdata.get('OPENAI_API_KEY')"
      ],
      "metadata": {
        "id": "WxPIrqv-Eios"
      },
      "execution_count": 3,
      "outputs": []
    },
    {
      "cell_type": "code",
      "source": [
        "client = OpenAI(api_key=openai_api_key)\n",
        "MODEL = \"gpt-4o-2024-08-06\""
      ],
      "metadata": {
        "id": "u4AM7CVnEkX-"
      },
      "execution_count": 4,
      "outputs": []
    },
    {
      "cell_type": "code",
      "source": [
        "class WeatherResponse(BaseModel):\n",
        "    \"\"\"Structured response for weather information.\"\"\"\n",
        "    city: str = Field(description=\"The city name\")\n",
        "    temperature: float = Field(description=\"The temperature in Celsius\")\n",
        "    humidity: float = Field(description=\"The humidity in percentage\")\n",
        "    wind_speed: float = Field(description=\"The speed of the wind in m/s\")"
      ],
      "metadata": {
        "id": "CLSc-eZRLflL"
      },
      "execution_count": 6,
      "outputs": []
    },
    {
      "cell_type": "code",
      "source": [
        "completion = client.beta.chat.completions.parse(\n",
        "    model=MODEL,\n",
        "    messages=[\n",
        "        {\n",
        "            \"role\": \"system\",\n",
        "            \"content\": \"You are a helpful assistant. You help users to fetech weather data by calling the tools.\",\n",
        "        },\n",
        "        {\n",
        "            \"role\": \"user\",\n",
        "            \"content\": \"what's the weather in Jaffna\",\n",
        "        },\n",
        "    ],\n",
        "    tools=[\n",
        "        openai.pydantic_function_tool(WeatherResponse),\n",
        "    ],\n",
        ")"
      ],
      "metadata": {
        "id": "yNq0OZNigMnX"
      },
      "execution_count": 7,
      "outputs": []
    },
    {
      "cell_type": "code",
      "source": [
        "print(completion)"
      ],
      "metadata": {
        "colab": {
          "base_uri": "https://localhost:8080/"
        },
        "id": "5UVfbKNdg64I",
        "outputId": "3f3b8ccc-ef79-482f-cbc4-f31c6bb9507d"
      },
      "execution_count": 8,
      "outputs": [
        {
          "output_type": "stream",
          "name": "stdout",
          "text": [
            "ParsedChatCompletion[NoneType](id='chatcmpl-Alq3BgmRvwV1R8J4azrjPgrzj2616', choices=[ParsedChoice[NoneType](finish_reason='tool_calls', index=0, logprobs=None, message=ParsedChatCompletionMessage[NoneType](content=None, refusal=None, role='assistant', audio=None, function_call=None, tool_calls=[ParsedFunctionToolCall(id='call_EiZyAZWncvXhc3843rHP3R6l', function=ParsedFunction(arguments='{\"city\":\"Jaffna\",\"temperature\":31,\"humidity\":75,\"wind_speed\":5}', name='WeatherResponse', parsed_arguments=WeatherResponse(city='Jaffna', temperature=31.0, humidity=75.0, wind_speed=5.0)), type='function')], parsed=None))], created=1735964861, model='gpt-4o-2024-08-06', object='chat.completion', service_tier=None, system_fingerprint='fp_5f20662549', usage=CompletionUsage(completion_tokens=31, prompt_tokens=132, total_tokens=163, completion_tokens_details=CompletionTokensDetails(accepted_prediction_tokens=0, audio_tokens=0, reasoning_tokens=0, rejected_prediction_tokens=0), prompt_tokens_details=PromptTokensDetails(audio_tokens=0, cached_tokens=0)))\n"
          ]
        }
      ]
    },
    {
      "cell_type": "code",
      "source": [
        "print(completion.choices[0].message.tool_calls[0].function.parsed_arguments)"
      ],
      "metadata": {
        "colab": {
          "base_uri": "https://localhost:8080/"
        },
        "id": "YTkryWNYklhn",
        "outputId": "2a352985-bd19-4c84-cb24-b9ca752617f9"
      },
      "execution_count": 9,
      "outputs": [
        {
          "output_type": "stream",
          "name": "stdout",
          "text": [
            "city='Jaffna' temperature=31.0 humidity=75.0 wind_speed=5.0\n"
          ]
        }
      ]
    }
  ]
}
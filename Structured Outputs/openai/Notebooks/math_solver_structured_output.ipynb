{
  "cells": [
    {
      "cell_type": "markdown",
      "metadata": {},
      "source": [
        "**response_format** method was used in this notebook."
      ]
    },
    {
      "cell_type": "code",
      "execution_count": 2,
      "metadata": {
        "id": "qYd_-oyon285"
      },
      "outputs": [],
      "source": [
        "! pip install -q openai pydantic"
      ]
    },
    {
      "cell_type": "code",
      "execution_count": 3,
      "metadata": {
        "id": "tYUHDZPIoKbR"
      },
      "outputs": [],
      "source": [
        "from enum import Enum\n",
        "import json\n",
        "import requests\n",
        "from openai import OpenAI\n",
        "from pydantic import BaseModel, Field"
      ]
    },
    {
      "cell_type": "code",
      "execution_count": 4,
      "metadata": {
        "id": "GmP8BKi7oMPF"
      },
      "outputs": [],
      "source": [
        "from google.colab import userdata\n",
        "\n",
        "openai_api_key = userdata.get('OPENAI_API_KEY')"
      ]
    },
    {
      "cell_type": "code",
      "execution_count": 5,
      "metadata": {
        "id": "U1umWgfpoPZL"
      },
      "outputs": [],
      "source": [
        "client = OpenAI(api_key=openai_api_key)\n",
        "MODEL = \"gpt-4o-2024-08-06\""
      ]
    },
    {
      "cell_type": "markdown",
      "metadata": {
        "id": "dVetzRkHjKqM"
      },
      "source": [
        "##### Json Schema"
      ]
    },
    {
      "cell_type": "code",
      "execution_count": 7,
      "metadata": {
        "colab": {
          "base_uri": "https://localhost:8080/"
        },
        "id": "lrGUZxNyoByS",
        "outputId": "ea1118d3-1976-4dc0-8c62-e2b3ddeefbc9"
      },
      "outputs": [
        {
          "name": "stdout",
          "output_type": "stream",
          "text": [
            "{\"steps\":[{\"explanation\":\"Start with the equation 8x + 31 = 2. The goal is to solve for x.\",\"output\":\"8x + 31 = 2\"},{\"explanation\":\"Subtract 31 from both sides to isolate the term with x on one side of the equation.\",\"output\":\"8x = 2 - 31\"},{\"explanation\":\"Calculate the right side of the equation: 2 - 31 = -29.\",\"output\":\"8x = -29\"},{\"explanation\":\"Divide both sides of the equation by 8 to solve for x.\",\"output\":\"x = -29/8\"}],\"final_answer\":\"x = -\\\\frac{29}{8}\"}\n"
          ]
        }
      ],
      "source": [
        "response = client.chat.completions.create(\n",
        "  model = MODEL,\n",
        "  messages = [\n",
        "    {\n",
        "      \"role\": \"system\",\n",
        "      \"content\": \"You are a helpful math tutor.\"\n",
        "    },\n",
        "    {\n",
        "      \"role\": \"user\",\n",
        "      \"content\": \"solve 8x + 31 = 2\"\n",
        "    }\n",
        "  ],\n",
        "  response_format = {\n",
        "    \"type\": \"json_schema\",\n",
        "    \"json_schema\": {\n",
        "      \"name\": \"math_response\",\n",
        "      \"strict\": True,\n",
        "      \"schema\": {\n",
        "        \"type\": \"object\",\n",
        "        \"properties\": {\n",
        "          \"steps\": {\n",
        "            \"type\": \"array\",\n",
        "            \"items\": {\n",
        "              \"type\": \"object\",\n",
        "              \"properties\": {\n",
        "                \"explanation\": {\n",
        "                  \"type\": \"string\"\n",
        "                },\n",
        "                \"output\": {\n",
        "                  \"type\": \"string\"\n",
        "                }\n",
        "              },\n",
        "              \"required\": [\"explanation\", \"output\"],\n",
        "              \"additionalProperties\": False\n",
        "            }\n",
        "          },\n",
        "          \"final_answer\": {\n",
        "            \"type\": \"string\"\n",
        "          }\n",
        "        },\n",
        "        \"required\": [\"steps\", \"final_answer\"],\n",
        "        \"additionalProperties\": False\n",
        "      }\n",
        "    }\n",
        "  }\n",
        ")\n",
        "\n",
        "print(response.choices[0].message.content)"
      ]
    },
    {
      "cell_type": "code",
      "execution_count": 14,
      "metadata": {
        "id": "x7qqSV8togFk"
      },
      "outputs": [],
      "source": [
        "answer =  response.choices[0].message.content\n",
        "parsed_answer = json.loads(answer)\n",
        "steps = parsed_answer['steps']\n",
        "final_answer = parsed_answer['final_answer']"
      ]
    },
    {
      "cell_type": "code",
      "execution_count": 16,
      "metadata": {
        "colab": {
          "base_uri": "https://localhost:8080/",
          "height": 35
        },
        "id": "uKVBVN_mqqaF",
        "outputId": "a363b939-f4d6-4253-85ee-5eb5e66bb29d"
      },
      "outputs": [
        {
          "data": {
            "application/vnd.google.colaboratory.intrinsic+json": {
              "type": "string"
            },
            "text/plain": [
              "'x = -\\\\frac{29}{8}'"
            ]
          },
          "execution_count": 16,
          "metadata": {},
          "output_type": "execute_result"
        }
      ],
      "source": [
        "final_answer"
      ]
    },
    {
      "cell_type": "code",
      "execution_count": 13,
      "metadata": {
        "colab": {
          "base_uri": "https://localhost:8080/"
        },
        "id": "JQFHDH7rqQ_e",
        "outputId": "72d34d69-5ac9-4d04-9b31-994fc01ec391"
      },
      "outputs": [
        {
          "name": "stdout",
          "output_type": "stream",
          "text": [
            "Explanation: Start with the equation 8x + 31 = 2. The goal is to solve for x.\n",
            "Output: 8x + 31 = 2\n",
            "\n",
            "Explanation: Subtract 31 from both sides to isolate the term with x on one side of the equation.\n",
            "Output: 8x = 2 - 31\n",
            "\n",
            "Explanation: Calculate the right side of the equation: 2 - 31 = -29.\n",
            "Output: 8x = -29\n",
            "\n",
            "Explanation: Divide both sides of the equation by 8 to solve for x.\n",
            "Output: x = -29/8\n",
            "\n"
          ]
        }
      ],
      "source": [
        "for step in steps:\n",
        "    print(f\"Explanation: {step['explanation']}\")\n",
        "    print(f\"Output: {step['output']}\")\n",
        "    print()\n"
      ]
    },
    {
      "cell_type": "markdown",
      "metadata": {
        "id": "UeKzA7IRiv3r"
      },
      "source": [
        "##### Pydantic"
      ]
    },
    {
      "cell_type": "code",
      "execution_count": 17,
      "metadata": {
        "id": "zHMWh97MkDRC"
      },
      "outputs": [],
      "source": [
        "query = \"solve 8x + 31 = 2\""
      ]
    },
    {
      "cell_type": "code",
      "execution_count": 18,
      "metadata": {
        "id": "7fYBDB9nllKh"
      },
      "outputs": [],
      "source": [
        "system_prompt = \"You are a helpful math tutor.\""
      ]
    },
    {
      "cell_type": "code",
      "execution_count": 19,
      "metadata": {
        "colab": {
          "base_uri": "https://localhost:8080/"
        },
        "id": "YBco_XWFj71m",
        "outputId": "81514b97-9de3-465f-e7bf-ef0f567db7da"
      },
      "outputs": [
        {
          "data": {
            "text/plain": [
              "{'steps': [{'explanation': 'Subtract 31 from both sides of the equation to isolate the term with x on the left side.',\n",
              "   'output': '8x = -29'},\n",
              "  {'explanation': 'Divide both sides of the equation by 8 to solve for x.',\n",
              "   'output': 'x = -29/8'}],\n",
              " 'final_answer': 'x = -29/8'}"
            ]
          },
          "execution_count": 19,
          "metadata": {},
          "output_type": "execute_result"
        }
      ],
      "source": [
        "class MathTutor(BaseModel):\n",
        "    class Step(BaseModel):\n",
        "        explanation: str = Field(description=\"Description of the step taken.\")\n",
        "        output: str = Field(description=\"Only answer of each step without text\")\n",
        "\n",
        "    steps: list[Step]\n",
        "    final_answer: str = Field(\n",
        "        description=\"The final answer of the equation.\"\n",
        "    )\n",
        "\n",
        "\n",
        "def math_response(query: str):\n",
        "    completion = client.beta.chat.completions.parse(\n",
        "        model=MODEL,\n",
        "        messages=[\n",
        "            {\"role\": \"system\", \"content\": system_prompt},\n",
        "            {\"role\": \"user\", \"content\": query},\n",
        "        ],\n",
        "        response_format=MathTutor,\n",
        "    )\n",
        "\n",
        "    return completion.choices[0].message.parsed\n",
        "\n",
        "\n",
        "response_pydantic = math_response(query)\n",
        "response_pydantic.model_dump()"
      ]
    },
    {
      "cell_type": "code",
      "execution_count": 26,
      "metadata": {
        "colab": {
          "base_uri": "https://localhost:8080/",
          "height": 423
        },
        "id": "UdiKabTXuIeD",
        "outputId": "9f53c1e8-aa6b-4d2e-f224-982c0a53ce88"
      },
      "outputs": [
        {
          "name": "stderr",
          "output_type": "stream",
          "text": [
            "WARNING:matplotlib.animation:MovieWriter imagemagick unavailable; using Pillow instead.\n"
          ]
        },
        {
          "data": {
            "image/png": "[encoded data removed]",
            "text/plain": [
              "<Figure size 640x480 with 1 Axes>"
            ]
          },
          "metadata": {},
          "output_type": "display_data"
        }
      ],
      "source": [
        "import matplotlib.pyplot as plt\n",
        "from matplotlib.animation import FuncAnimation\n",
        "\n",
        "steps = response_pydantic.model_dump()['steps']\n",
        "\n",
        "fig, ax = plt.subplots()\n",
        "ax.axis('off')\n",
        "\n",
        "# Add text placeholders\n",
        "title = ax.text(0.5, 0.8, '', fontsize=16, ha='center', va='center', wrap=True)\n",
        "step_output = ax.text(0.5, 0.5, '', fontsize=20, ha='center', va='center', wrap=True)\n",
        "\n",
        "# Update function for the animation\n",
        "def update(frame):\n",
        "    step = steps[frame]\n",
        "    title.set_text(f\"Step {frame + 1}: {step['explanation']}\")\n",
        "    step_output.set_text(f\"{step['output']}\")\n",
        "\n",
        "# Create the animation\n",
        "ani = FuncAnimation(fig, update, frames=len(steps), interval=2000, repeat=False)\n",
        "\n",
        "ani.save('steps_animation.gif', writer='imagemagick', fps=1)"
      ]
    }
  ],
  "metadata": {
    "colab": {
      "provenance": []
    },
    "kernelspec": {
      "display_name": "Python 3",
      "name": "python3"
    },
    "language_info": {
      "name": "python"
    }
  },
  "nbformat": 4,
  "nbformat_minor": 0
}

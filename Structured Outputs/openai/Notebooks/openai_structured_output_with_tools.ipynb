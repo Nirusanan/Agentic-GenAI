{
  "nbformat": 4,
  "nbformat_minor": 0,
  "metadata": {
    "colab": {
      "provenance": []
    },
    "kernelspec": {
      "name": "python3",
      "display_name": "Python 3"
    },
    "language_info": {
      "name": "python"
    }
  },
  "cells": [
    {
      "cell_type": "markdown",
      "source": [
        "connect the API with function calling to provide structured output."
      ],
      "metadata": {
        "id": "lUX0HDXjIgFH"
      }
    },
    {
      "cell_type": "code",
      "execution_count": null,
      "metadata": {
        "id": "Fj9NYiI4CZyx"
      },
      "outputs": [],
      "source": [
        "! pip install -q openai pydantic"
      ]
    },
    {
      "cell_type": "code",
      "source": [
        "from enum import Enum\n",
        "import json\n",
        "import requests\n",
        "import openai\n",
        "from openai import OpenAI"
      ],
      "metadata": {
        "id": "NcJWXQ0jEfoF"
      },
      "execution_count": null,
      "outputs": []
    },
    {
      "cell_type": "code",
      "source": [
        "from google.colab import userdata\n",
        "\n",
        "openai_api_key = userdata.get('OPENAI_API_KEY')"
      ],
      "metadata": {
        "id": "WxPIrqv-Eios"
      },
      "execution_count": null,
      "outputs": []
    },
    {
      "cell_type": "code",
      "source": [
        "client = OpenAI(api_key=openai_api_key)\n",
        "MODEL = \"gpt-4o-2024-08-06\""
      ],
      "metadata": {
        "id": "u4AM7CVnEkX-"
      },
      "execution_count": null,
      "outputs": []
    },
    {
      "cell_type": "code",
      "source": [
        "weather_api_key = userdata.get('openweather')"
      ],
      "metadata": {
        "id": "OwOEuTBk5PTb"
      },
      "execution_count": null,
      "outputs": []
    },
    {
      "cell_type": "code",
      "source": [
        "def get_weather(city: str):\n",
        "    url = f'http://api.openweathermap.org/data/2.5/weather?q={city}&appid={weather_api_key}&units=metric'\n",
        "    response = requests.get(url)\n",
        "    if response.status_code == 200:\n",
        "        data = response.json()\n",
        "        weather = {\n",
        "            \"city\": city,\n",
        "            \"temperature\": data['main']['temp'],\n",
        "            \"description\": data['weather'][0]['description'],\n",
        "            \"humidity\": data['main']['humidity'],\n",
        "            \"pressure\": data['main']['pressure']\n",
        "        }\n",
        "        return weather\n",
        "    else:\n",
        "        return None\n",
        "\n",
        "weather_function = {\n",
        "        \"type\": \"function\",\n",
        "        \"function\": {\n",
        "            \"name\": \"get_weather\",\n",
        "            \"description\": \"Get the current weather\",\n",
        "            \"strict\": True,\n",
        "            \"parameters\": {\n",
        "                \"type\": \"object\",\n",
        "                \"properties\": {\n",
        "                    \"location\": {\n",
        "                        \"type\": \"string\",\n",
        "                        \"description\": \"The city name\",\n",
        "                    },\n",
        "                    \"temperature\": {\n",
        "                        \"type\": \"number\",\n",
        "                        \"description\": \"The temperature in Celsius\",\n",
        "                    },\n",
        "                    \"humidity\": {\n",
        "                        \"type\": \"number\",\n",
        "                        \"description\": \"The humidity in percentage\",\n",
        "                    },\n",
        "                    \"pressure\": {\n",
        "                        \"type\": \"number\",\n",
        "                        \"description\": \"The pressure\",\n",
        "                    },\n",
        "\n",
        "                },\n",
        "                \"additionalProperties\": False,\n",
        "                \"required\": [\"location\", \"temperature\", \"humidity\", \"pressure\"],\n",
        "            },\n",
        "        }\n",
        "    }"
      ],
      "metadata": {
        "id": "3ik196_5FZ1t"
      },
      "execution_count": null,
      "outputs": []
    },
    {
      "cell_type": "code",
      "source": [
        "completion = client.beta.chat.completions.parse(\n",
        "    model=MODEL,\n",
        "    messages=[\n",
        "        {\n",
        "            \"role\": \"user\",\n",
        "            \"content\": \"what's the weather in Jaffna?\",\n",
        "        },\n",
        "    ],\n",
        "    tools=[weather_function],\n",
        ")"
      ],
      "metadata": {
        "id": "yNq0OZNigMnX"
      },
      "execution_count": null,
      "outputs": []
    },
    {
      "cell_type": "code",
      "source": [
        "print(completion.choices[0].message.tool_calls)"
      ],
      "metadata": {
        "colab": {
          "base_uri": "https://localhost:8080/"
        },
        "id": "5UVfbKNdg64I",
        "outputId": "df60ffb7-0c29-4058-be53-adba417dde45"
      },
      "execution_count": null,
      "outputs": [
        {
          "output_type": "stream",
          "name": "stdout",
          "text": [
            "[ParsedFunctionToolCall(id='call_zbErlrVvBFjWOzKZOmuxt5uB', function=ParsedFunction(arguments='{\"location\":\"Jaffna\",\"temperature\":30,\"humidity\":70,\"pressure\":1010}', name='get_weather', parsed_arguments={'location': 'Jaffna', 'temperature': 30, 'humidity': 70, 'pressure': 1010}), type='function')]\n"
          ]
        }
      ]
    },
    {
      "cell_type": "code",
      "source": [
        "print(completion.choices[0].message.tool_calls[0].function.parsed_arguments)"
      ],
      "metadata": {
        "colab": {
          "base_uri": "https://localhost:8080/"
        },
        "id": "YTkryWNYklhn",
        "outputId": "6f48f4a9-4988-4aa3-f936-0a10ac7ce43c"
      },
      "execution_count": null,
      "outputs": [
        {
          "output_type": "stream",
          "name": "stdout",
          "text": [
            "{'location': 'Jaffna', 'temperature': 30, 'humidity': 70, 'pressure': 1010}\n"
          ]
        }
      ]
    }
  ]
}
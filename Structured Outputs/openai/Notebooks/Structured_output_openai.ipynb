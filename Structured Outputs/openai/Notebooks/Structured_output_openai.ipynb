{
  "cells": [
    {
      "cell_type": "markdown",
      "metadata": {
        "id": "ZqvZETMkKy-x"
      },
      "source": [
        "1.   **response_format** method\n",
        "2.   function calling\n"
      ]
    },
    {
      "cell_type": "markdown",
      "metadata": {},
      "source": [
        "**response_format** method was used in this notebook."
      ]
    },
    {
      "cell_type": "code",
      "execution_count": null,
      "metadata": {
        "id": "rIZkJzHax7Bb"
      },
      "outputs": [],
      "source": [
        "! pip install -q beautifulsoup4 pydantic openai"
      ]
    },
    {
      "cell_type": "code",
      "execution_count": null,
      "metadata": {
        "id": "5c_A29csx32j"
      },
      "outputs": [],
      "source": [
        "from enum import Enum\n",
        "import json\n",
        "\n",
        "import requests\n",
        "from bs4 import BeautifulSoup\n",
        "from openai import OpenAI\n",
        "from pydantic import BaseModel, Field"
      ]
    },
    {
      "cell_type": "code",
      "execution_count": null,
      "metadata": {
        "id": "J4QzeZpCLVUl"
      },
      "outputs": [],
      "source": [
        "from google.colab import userdata\n",
        "\n",
        "open_api_key = userdata.get('OPENAI_API_KEY')"
      ]
    },
    {
      "cell_type": "code",
      "execution_count": null,
      "metadata": {
        "id": "mgIj4ge9x76k"
      },
      "outputs": [],
      "source": [
        "client = OpenAI(api_key=open_api_key)\n",
        "MODEL = \"gpt-4o-2024-08-06\""
      ]
    },
    {
      "cell_type": "code",
      "execution_count": null,
      "metadata": {
        "id": "LPaU-hwIx7wo"
      },
      "outputs": [],
      "source": [
        "query = \"\"\"\n",
        "Hi, I'm having trouble with my recent order. I received the wrong item and need to return it for a refund.\n",
        "Can you help me with the return process and let me know when I can expect my refund?\n",
        "\"\"\""
      ]
    },
    {
      "cell_type": "code",
      "execution_count": null,
      "metadata": {
        "id": "n3KeWDmEx7sT"
      },
      "outputs": [],
      "source": [
        "system_prompt = \"\"\"\n",
        "You are an AI customer care assistant. You will be provided with a customer inquiry,\n",
        "and your goal is to respond with a structured solution, including the steps taken to resolve the issue and the final resolution.\n",
        "For each step, provide a description and the action taken.\n",
        "\"\"\""
      ]
    },
    {
      "cell_type": "markdown",
      "metadata": {
        "id": "U5wHQK-acBvG"
      },
      "source": [
        "##### JSON Schema"
      ]
    },
    {
      "cell_type": "code",
      "execution_count": null,
      "metadata": {
        "colab": {
          "base_uri": "https://localhost:8080/"
        },
        "id": "vNXW0NlUx7my",
        "outputId": "147a3e57-64cb-4ec8-9847-4e95717e360a"
      },
      "outputs": [
        {
          "data": {
            "text/plain": [
              "{'content': '{\"steps\":[{\"description\":\"Verify the customer\\'s order details and the item received.\",\"action\":\"Check the order history to confirm the correct item ordered and identify the item that was incorrectly shipped.\"},{\"description\":\"Inform the customer about the return policy and procedures.\",\"action\":\"Provide the customer with the return process, including steps for sending back the wrong item.\"},{\"description\":\"Generate a return shipping label for the customer.\",\"action\":\"Create and send an electronic return shipping label to the customer via email.\"},{\"description\":\"Guide the customer on how to pack and ship the item for return.\",\"action\":\"Explain how to securely pack the item and attach the shipping label for return.\"},{\"description\":\"Process a refund once the item is returned and verified.\",\"action\":\"Set up a refund to be initiated as soon as the returned item is received and verified by the warehouse.\"}],\"final_resolution\":\"Please follow the instructions provided in the email to return the incorrect item using the prepaid shipping label. Your refund will be processed within 5-7 business days upon receipt and verification of the returned item. We apologize for any inconvenience caused.\"}',\n",
              " 'refusal': None,\n",
              " 'role': 'assistant',\n",
              " 'audio': None,\n",
              " 'function_call': None,\n",
              " 'tool_calls': None}"
            ]
          },
          "execution_count": 8,
          "metadata": {},
          "output_type": "execute_result"
        }
      ],
      "source": [
        "def get_ticket_response_json(query):\n",
        "    response = client.chat.completions.create(\n",
        "        model=MODEL,\n",
        "        messages=[\n",
        "            {\"role\": \"system\", \"content\": system_prompt},\n",
        "            {\"role\": \"user\", \"content\": query},\n",
        "        ],\n",
        "        response_format={\n",
        "            \"type\": \"json_schema\",\n",
        "            \"json_schema\": {\n",
        "                \"name\": \"ticket_resolution\",\n",
        "                \"schema\": {\n",
        "                    \"type\": \"object\",\n",
        "                    \"properties\": {\n",
        "                        \"steps\": {\n",
        "                            \"type\": \"array\",\n",
        "                            \"items\": {\n",
        "                                \"type\": \"object\",\n",
        "                                \"properties\": {\n",
        "                                    \"description\":{\n",
        "                                        \"type\": \"string\",\n",
        "                                        \"description\": \"Description of the step taken.\",\n",
        "                                    },\n",
        "                                    \"action\":{\n",
        "                                        \"type\": \"string\",\n",
        "                                        \"description\": \"Action taken to resolve this issue.\",\n",
        "                                    },\n",
        "                                },\n",
        "                                \"required\": [\"description\", \"action\"],\n",
        "                                \"additionalProperties\": False,\n",
        "\n",
        "                            },\n",
        "                        },\n",
        "                        \"final_resolution\": {\n",
        "                            \"type\": \"string\",\n",
        "                            \"description\": \"The final message taht will be send to the customer.\",\n",
        "                        },\n",
        "                    },\n",
        "                    \"required\": [\"steps\", \"final_resolution\"],\n",
        "                    \"additionalProperties\": False,\n",
        "                },\n",
        "                \"strict\": True,\n",
        "            },\n",
        "        },\n",
        "    )\n",
        "\n",
        "    return response.choices[0].message\n",
        "\n",
        "\n",
        "response = get_ticket_response_json(query)\n",
        "response.model_dump()"
      ]
    },
    {
      "cell_type": "code",
      "execution_count": null,
      "metadata": {
        "colab": {
          "base_uri": "https://localhost:8080/"
        },
        "id": "EMK2CpGkx7kH",
        "outputId": "fccd40eb-179d-4d38-ce1b-4545f24dae4d"
      },
      "outputs": [
        {
          "name": "stdout",
          "output_type": "stream",
          "text": [
            "Step: Verify the customer's order details and the item received.\n",
            "Action: Check the order history to confirm the correct item ordered and identify the item that was incorrectly shipped.\n",
            "\n",
            "Step: Inform the customer about the return policy and procedures.\n",
            "Action: Provide the customer with the return process, including steps for sending back the wrong item.\n",
            "\n",
            "Step: Generate a return shipping label for the customer.\n",
            "Action: Create and send an electronic return shipping label to the customer via email.\n",
            "\n",
            "Step: Guide the customer on how to pack and ship the item for return.\n",
            "Action: Explain how to securely pack the item and attach the shipping label for return.\n",
            "\n",
            "Step: Process a refund once the item is returned and verified.\n",
            "Action: Set up a refund to be initiated as soon as the returned item is received and verified by the warehouse.\n",
            "\n",
            "Please follow the instructions provided in the email to return the incorrect item using the prepaid shipping label. Your refund will be processed within 5-7 business days upon receipt and verification of the returned item. We apologize for any inconvenience caused.\n"
          ]
        }
      ],
      "source": [
        "response_json = json.loads(response.content)\n",
        "for step in response_json[\"steps\"]:\n",
        "    print(f\"Step: {step['description']}\")\n",
        "    print(f\"Action: {step['action']}\\n\")\n",
        "print(response_json[\"final_resolution\"])"
      ]
    },
    {
      "cell_type": "markdown",
      "metadata": {
        "id": "KW1hsWQ3KfgP"
      },
      "source": [
        "##### Pydantic"
      ]
    },
    {
      "cell_type": "code",
      "execution_count": null,
      "metadata": {
        "colab": {
          "base_uri": "https://localhost:8080/"
        },
        "id": "cE7_2iDJx7fI",
        "outputId": "f59b9ecd-2f78-418d-a8bc-02212d06aeaf"
      },
      "outputs": [
        {
          "data": {
            "text/plain": [
              "{'steps': [{'description': 'Verified details of the order to confirm the incorrect item was received.',\n",
              "   'action': \"Reviewed the customer's order history and the current order details to identify the item mismatch.\"},\n",
              "  {'description': 'Checked the return policy concerning incorrect items received.',\n",
              "   'action': \"Accessed the company's return policy and procedures documentation to confirm the process for returning incorrect items.\"},\n",
              "  {'description': 'Initiated the return process for the customer.',\n",
              "   'action': 'Filled out and submitted a return request form on behalf of the customer, generating a return shipping label for them.'},\n",
              "  {'description': 'Informed the customer about the return process and time expectations for a refund.',\n",
              "   'action': 'Provided details to the customer on how to return the item using the shipping label and informed them about the expected time frame for the refund process.'}],\n",
              " 'final_resolution': 'We apologize for the inconvenience of receiving the wrong item. I have initiated the return process for you. Please find the return shipping label attached to this email—use it to send back the incorrect item. Once we receive the returned item, we will process your refund. It typically takes 7-10 business days after we receive the item for the refund to appear in your account. If you have any questions, feel free to reach out.',\n",
              " 'confidence': 0.95}"
            ]
          },
          "execution_count": 10,
          "metadata": {},
          "output_type": "execute_result"
        }
      ],
      "source": [
        "class TicketResolution(BaseModel):\n",
        "    class Step(BaseModel):\n",
        "        description: str = Field(description=\"Description of the step taken.\")\n",
        "        action: str = Field(description=\"Action taken to resolve the issue.\")\n",
        "\n",
        "    steps: list[Step]\n",
        "    final_resolution: str = Field(\n",
        "        description=\"The final message that will be send to the customer.\"\n",
        "    )\n",
        "    confidence: float = Field(description=\"Confidence in the resolution (0-1)\")\n",
        "\n",
        "\n",
        "def get_ticket_response_pydantic(query: str):\n",
        "    completion = client.beta.chat.completions.parse(\n",
        "        model=MODEL,\n",
        "        messages=[\n",
        "            {\"role\": \"system\", \"content\": system_prompt},\n",
        "            {\"role\": \"user\", \"content\": query},\n",
        "        ],\n",
        "        response_format=TicketResolution,\n",
        "    )\n",
        "\n",
        "    return completion.choices[0].message.parsed\n",
        "\n",
        "\n",
        "response_pydantic = get_ticket_response_pydantic(query)\n",
        "response_pydantic.model_dump()"
      ]
    },
    {
      "cell_type": "markdown",
      "metadata": {
        "id": "xqbFS6hpJKtE"
      },
      "source": [
        "##### Example with Enums"
      ]
    },
    {
      "cell_type": "code",
      "execution_count": null,
      "metadata": {
        "colab": {
          "base_uri": "https://localhost:8080/"
        },
        "id": "-FD4FOjyx7bf",
        "outputId": "7bb91064-61f2-46c0-b2cc-b4a347b2be07"
      },
      "outputs": [
        {
          "data": {
            "text/plain": [
              "{'content': \"Of course, I'd be happy to help with your billing question. To assist you effectively, we'll follow these steps:\\n\\n1. **Identify Specific Issues**\\n   - Description: We'll start by identifying the specific concern you have with your bill, such as unexpected charges, incorrect amounts, or needing clarification on specific line items.\\n   - Action: Please provide details about the specific issue you're experiencing with your bill.\\n\\n2. **Review Billing Information**\\n   - Description: We'll review the billing details based on the information you provide.\\n   - Action: Check the billing period, invoice details, and any associated account information that may be relevant.\\n\\n3. **Compare with Account Records**\\n   - Description: We will compare this information with our records to verify the billing details.\\n   - Action: Look at your account's transaction history, previous payments, and any applicable promotions or discounts.\\n\\n4. **Resolve the Issue**\\n   - Description: Once the issue is identified and verified, we'll take steps to resolve it, whether it's correcting an error or providing additional explanations.\\n   - Action: Adjust any incorrect charges and ensure billing reflects accurate information. If further action is needed, like issuing a refund, we will confirm it.\\n\\n5. **Confirm Resolution & Next Steps**\\n   - Description: Finally, we will confirm that the issue has been resolved to your satisfaction and outline any further steps if needed.\\n   - Action: Communicate the resolution to you and provide recommendations to avoid similar issues in the future.\\n\\nPlease let us know the specific details of your billing inquiry, and we will proceed with these steps to assist you.\",\n",
              " 'category': <TicketCategory.BILLING: 'billing'>,\n",
              " 'confidence': 0.95}"
            ]
          },
          "execution_count": 11,
          "metadata": {},
          "output_type": "execute_result"
        }
      ],
      "source": [
        "query = \"Hi there, I have a question about my bill. Can you help me?\"\n",
        "\n",
        "\n",
        "class TicketCategory(str, Enum):\n",
        "    \"\"\"Enumeration of categories for incoming tickets.\"\"\"\n",
        "\n",
        "    GENERAL = \"general\"\n",
        "    ORDER = \"order\"\n",
        "    RETURN = \"return\"\n",
        "    BILLING = \"billing\"\n",
        "\n",
        "\n",
        "# Define your desired output structure using Pydantic\n",
        "class Reply(BaseModel):\n",
        "    content: str = Field(description=\"Your reply that we send to the customer.\")\n",
        "    category: TicketCategory\n",
        "    confidence: float = Field(\n",
        "        description=\"Confidence in the category prediction.\"\n",
        "    )  # ge=0, le=1,\n",
        "\n",
        "\n",
        "completion = client.beta.chat.completions.parse(\n",
        "    model=MODEL,\n",
        "    response_format=Reply,\n",
        "    messages=[\n",
        "        {\n",
        "            \"role\": \"system\",\n",
        "            \"content\": system_prompt,\n",
        "        },\n",
        "        {\"role\": \"user\", \"content\": query},\n",
        "    ],\n",
        ")\n",
        "\n",
        "reply = completion.choices[0].message.parsed\n",
        "reply.model_dump()"
      ]
    },
    {
      "cell_type": "markdown",
      "metadata": {
        "id": "nrsZa38XgAy5"
      },
      "source": [
        "##### Text summarization"
      ]
    },
    {
      "cell_type": "code",
      "execution_count": null,
      "metadata": {
        "colab": {
          "base_uri": "https://localhost:8080/"
        },
        "id": "VC323Me-f9pQ",
        "outputId": "0f79f142-5a2e-4149-926b-b07589d0e330"
      },
      "outputs": [
        {
          "name": "stdout",
          "output_type": "stream",
          "text": [
            "Analyzing article #1...\n",
            "Done.\n",
            "Analyzing article #2...\n",
            "Done.\n",
            "Analyzing article #3...\n",
            "Done.\n"
          ]
        }
      ],
      "source": [
        "def get_article_content(url):\n",
        "    response = requests.get(url)\n",
        "    soup = BeautifulSoup(response.content, \"html.parser\")\n",
        "    html_content = soup.find(\"div\", class_=\"mw-parser-output\")\n",
        "    content = \"\\n\".join(p.text for p in html_content.find_all(\"p\"))\n",
        "    return content\n",
        "\n",
        "\n",
        "urls = [\n",
        "    # Article on CNNs\n",
        "    \"https://en.wikipedia.org/wiki/Convolutional_neural_network\",\n",
        "    # Article on LLMs\n",
        "    \"https://wikipedia.org/wiki/Large_language_model\",\n",
        "    # Article on MoE\n",
        "    \"https://en.wikipedia.org/wiki/Mixture_of_experts\",\n",
        "]\n",
        "\n",
        "content = [get_article_content(url) for url in urls]\n",
        "\n",
        "\n",
        "summarization_prompt = \"\"\"\n",
        "You will be provided with content from an article about an invention.\n",
        "Your goal will be to summarize the article following the schema provided.\n",
        "Here is a description of the parameters:\n",
        "- invented_year: year in which the invention discussed in the article was invented\n",
        "- summary: one sentence summary of what the invention is\n",
        "- inventors: array of strings listing the inventor full names if present, otherwise just surname\n",
        "- concepts: array of key concepts related to the invention, each concept containing a title and a description\n",
        "- description: short description of the invention\n",
        "\"\"\"\n",
        "\n",
        "\n",
        "class ArticleSummary(BaseModel):\n",
        "    invented_year: int\n",
        "    summary: str\n",
        "    inventors: list[str]\n",
        "    description: str\n",
        "\n",
        "    class Concept(BaseModel):\n",
        "        title: str\n",
        "        description: str\n",
        "\n",
        "    concepts: list[Concept]\n",
        "\n",
        "\n",
        "def get_article_summary(text: str):\n",
        "    completion = client.beta.chat.completions.parse(\n",
        "        model=MODEL,\n",
        "        temperature=0.2,\n",
        "        messages=[\n",
        "            {\"role\": \"system\", \"content\": summarization_prompt},\n",
        "            {\"role\": \"user\", \"content\": text},\n",
        "        ],\n",
        "        response_format=ArticleSummary,\n",
        "    )\n",
        "\n",
        "    return completion.choices[0].message.parsed\n",
        "\n",
        "\n",
        "summaries = []\n",
        "\n",
        "for i in range(len(content)):\n",
        "    print(f\"Analyzing article #{i+1}...\")\n",
        "    summaries.append(get_article_summary(content[i]))\n",
        "    print(\"Done.\")"
      ]
    },
    {
      "cell_type": "code",
      "execution_count": null,
      "metadata": {
        "colab": {
          "base_uri": "https://localhost:8080/"
        },
        "id": "FtGOL8EEglKI",
        "outputId": "d5b09cad-5811-42c5-d877-2d5c87cd6e84"
      },
      "outputs": [
        {
          "name": "stdout",
          "output_type": "stream",
          "text": [
            "invented_year=1980 summary='A convolutional neural network (CNN) is a type of deep learning model designed to process data with a grid-like topology, such as images, by using convolutional layers to automatically learn spatial hierarchies of features.' inventors=['Fukushima'] description='Convolutional neural networks (CNNs) are a class of deep neural networks commonly used for analyzing visual imagery. They are designed to automatically and adaptively learn spatial hierarchies of features from input data through backpropagation by using multiple building blocks, such as convolution layers, pooling layers, and fully connected layers.' concepts=[Concept(title='Convolutional Layers', description='These layers apply a convolution operation to the input, passing the result to the next layer. They are the core building blocks of CNNs, allowing the network to learn spatial hierarchies of features.'), Concept(title='Pooling Layers', description='Pooling layers reduce the dimensionality of each feature map but retain the most important information. This helps in reducing the computational cost and controlling overfitting.'), Concept(title='ReLU Activation Function', description='The rectified linear unit (ReLU) is a non-linear activation function used in CNNs that helps the network learn complex patterns by introducing non-linearity.'), Concept(title='Weight Sharing', description='In CNNs, the same filter (or kernel) is applied across different parts of the input, reducing the number of parameters and improving computational efficiency.'), Concept(title='Applications', description='CNNs are widely used in image and video recognition, recommender systems, image classification, medical image analysis, and natural language processing.')]\n",
            "...............................\n",
            "invented_year=2017 summary='A large language model (LLM) is a machine learning model designed for natural language processing tasks, utilizing many parameters and trained on vast text data.' inventors=['Google researchers'] description='Large language models (LLMs) are advanced machine learning models used for natural language processing tasks, such as language generation, by leveraging a vast number of parameters and extensive text data for training. They are primarily based on the transformer architecture, introduced by Google researchers in 2017, and have evolved to include models like GPT, which are capable of generating human-like text and performing various language tasks.' concepts=[Concept(title='Transformer Architecture', description='Introduced by Google researchers in 2017, this architecture uses an attention mechanism to improve upon previous sequence-to-sequence models, enabling more efficient processing of language data.'), Concept(title='Generative Pretrained Transformers (GPT)', description='A type of LLM that uses decoder-only transformer architecture, known for its ability to generate coherent and contextually relevant text.'), Concept(title='Tokenization', description='The process of converting text into numerical tokens that can be processed by LLMs, often using methods like byte-pair encoding.'), Concept(title='Multimodal Models', description='LLMs that can process and generate multiple types of data, such as text, images, and audio, expanding their application beyond text-only tasks.'), Concept(title='Reinforcement Learning from Human Feedback (RLHF)', description='A method used to fine-tune LLMs by incorporating human preferences into the training process to improve model outputs.'), Concept(title='Bias and Ethical Concerns', description='LLMs can inherit biases from their training data, leading to ethical concerns about fairness and representation in generated content.')]\n",
            "...............................\n",
            "invented_year=1991 summary='Mixture of Experts (MoE) is a machine learning technique that uses multiple expert networks to divide a problem space into homogeneous regions for improved decision-making.' inventors=['Hampshire', 'Waibel'] description='Mixture of Experts (MoE) is a machine learning approach that involves using multiple expert networks to handle different parts of a problem space, allowing for specialized decision-making and improved performance in tasks such as classification and prediction.' concepts=[Concept(title='Ensemble Learning', description='MoE is a form of ensemble learning where multiple models are combined to improve performance.'), Concept(title='Gradient Descent', description='Both the experts and the weighting function in MoE are trained by minimizing a loss function, typically using gradient descent.'), Concept(title='Hierarchical Mixtures of Experts', description='This approach uses multiple levels of gating in a tree structure, similar to decision trees, to manage expert selection.'), Concept(title='Sparsely-Gated MoE', description='A variant of MoE where only a subset of experts are activated for each input, reducing computational cost.'), Concept(title='Load Balancing', description='Ensuring that all experts are utilized efficiently to prevent some from being overused while others are underused.')]\n",
            "...............................\n"
          ]
        }
      ],
      "source": [
        "# summary of the articles\n",
        "for summary in  summaries:\n",
        "  print(summary)\n",
        "  print(\"...............................\")"
      ]
    }
  ],
  "metadata": {
    "colab": {
      "provenance": []
    },
    "kernelspec": {
      "display_name": "Python 3",
      "name": "python3"
    },
    "language_info": {
      "name": "python"
    }
  },
  "nbformat": 4,
  "nbformat_minor": 0
}

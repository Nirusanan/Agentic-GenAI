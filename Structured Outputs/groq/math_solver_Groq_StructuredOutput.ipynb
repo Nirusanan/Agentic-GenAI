{
  "nbformat": 4,
  "nbformat_minor": 0,
  "metadata": {
    "colab": {
      "provenance": [],
      "gpuType": "T4"
    },
    "kernelspec": {
      "name": "python3",
      "display_name": "Python 3"
    },
    "language_info": {
      "name": "python"
    },
    "accelerator": "GPU"
  },
  "cells": [
    {
      "cell_type": "code",
      "execution_count": 2,
      "metadata": {
        "id": "qYd_-oyon285"
      },
      "outputs": [],
      "source": [
        "! pip install -q pydantic groq"
      ]
    },
    {
      "cell_type": "code",
      "source": [
        "from enum import Enum\n",
        "import json\n",
        "import requests\n",
        "from groq import Groq\n",
        "from pydantic import BaseModel, Field"
      ],
      "metadata": {
        "id": "tYUHDZPIoKbR"
      },
      "execution_count": 3,
      "outputs": []
    },
    {
      "cell_type": "code",
      "source": [
        "from google.colab import userdata\n",
        "\n",
        "groq_api_key = userdata.get('GROQ_API_KEY')"
      ],
      "metadata": {
        "id": "GmP8BKi7oMPF"
      },
      "execution_count": 4,
      "outputs": []
    },
    {
      "cell_type": "code",
      "source": [
        "client = Groq(api_key=groq_api_key)\n",
        "MODEL = \"openai/gpt-oss-20b\""
      ],
      "metadata": {
        "id": "U1umWgfpoPZL"
      },
      "execution_count": 5,
      "outputs": []
    },
    {
      "cell_type": "markdown",
      "source": [
        "##### Json Schema"
      ],
      "metadata": {
        "id": "dVetzRkHjKqM"
      }
    },
    {
      "cell_type": "code",
      "source": [
        "response = client.chat.completions.create(\n",
        "  model = MODEL,\n",
        "  messages = [\n",
        "    {\n",
        "      \"role\": \"system\",\n",
        "      \"content\": \"You are a helpful math tutor.\"\n",
        "    },\n",
        "    {\n",
        "      \"role\": \"user\",\n",
        "      \"content\": \"solve 8x + 31 = 2\"\n",
        "    }\n",
        "  ],\n",
        "  response_format = {\n",
        "    \"type\": \"json_schema\",\n",
        "    \"json_schema\": {\n",
        "      \"name\": \"math_response\",\n",
        "      \"strict\": True,\n",
        "      \"schema\": {\n",
        "        \"type\": \"object\",\n",
        "        \"properties\": {\n",
        "          \"steps\": {\n",
        "            \"type\": \"array\",\n",
        "            \"items\": {\n",
        "              \"type\": \"object\",\n",
        "              \"properties\": {\n",
        "                \"explanation\": {\n",
        "                  \"type\": \"string\"\n",
        "                },\n",
        "                \"output\": {\n",
        "                  \"type\": \"string\"\n",
        "                }\n",
        "              },\n",
        "              \"required\": [\"explanation\", \"output\"],\n",
        "              \"additionalProperties\": False\n",
        "            }\n",
        "          },\n",
        "          \"final_answer\": {\n",
        "            \"type\": \"string\"\n",
        "          }\n",
        "        },\n",
        "        \"required\": [\"steps\", \"final_answer\"],\n",
        "        \"additionalProperties\": False\n",
        "      }\n",
        "    }\n",
        "  }\n",
        ")\n",
        "\n",
        "print(response.choices[0].message.content)"
      ],
      "metadata": {
        "id": "lrGUZxNyoByS",
        "colab": {
          "base_uri": "https://localhost:8080/"
        },
        "outputId": "d5370fe0-e8b5-48e7-fa4a-1d9d847f7218"
      },
      "execution_count": 6,
      "outputs": [
        {
          "output_type": "stream",
          "name": "stdout",
          "text": [
            "{\"steps\":[{\"explanation\":\"Subtract 31 from both sides to isolate the term with x.\",\"output\":\"8x = -29\"},{\"explanation\":\"Divide both sides by 8 to solve for x.\",\"output\":\"x = -29/8\"}],\"final_answer\":\"x = -29/8\"}\n"
          ]
        }
      ]
    },
    {
      "cell_type": "code",
      "source": [
        "answer =  response.choices[0].message.content\n",
        "parsed_answer = json.loads(answer)\n",
        "steps = parsed_answer['steps']\n",
        "final_answer = parsed_answer['final_answer']"
      ],
      "metadata": {
        "id": "x7qqSV8togFk"
      },
      "execution_count": 7,
      "outputs": []
    },
    {
      "cell_type": "code",
      "source": [
        "final_answer"
      ],
      "metadata": {
        "colab": {
          "base_uri": "https://localhost:8080/",
          "height": 36
        },
        "id": "uKVBVN_mqqaF",
        "outputId": "3ca98346-96d4-4233-ebe4-04cd89c6675e"
      },
      "execution_count": 8,
      "outputs": [
        {
          "output_type": "execute_result",
          "data": {
            "text/plain": [
              "'x = -29/8'"
            ],
            "application/vnd.google.colaboratory.intrinsic+json": {
              "type": "string"
            }
          },
          "metadata": {},
          "execution_count": 8
        }
      ]
    },
    {
      "cell_type": "code",
      "source": [
        "for step in steps:\n",
        "    print(f\"Explanation: {step['explanation']}\")\n",
        "    print(f\"Output: {step['output']}\")\n",
        "    print()\n"
      ],
      "metadata": {
        "colab": {
          "base_uri": "https://localhost:8080/"
        },
        "id": "JQFHDH7rqQ_e",
        "outputId": "29add531-c07a-4055-d0ab-e3ce8388472b"
      },
      "execution_count": 9,
      "outputs": [
        {
          "output_type": "stream",
          "name": "stdout",
          "text": [
            "Explanation: Subtract 31 from both sides to isolate the term with x.\n",
            "Output: 8x = -29\n",
            "\n",
            "Explanation: Divide both sides by 8 to solve for x.\n",
            "Output: x = -29/8\n",
            "\n"
          ]
        }
      ]
    },
    {
      "cell_type": "markdown",
      "source": [
        "##### Pydantic"
      ],
      "metadata": {
        "id": "UeKzA7IRiv3r"
      }
    },
    {
      "cell_type": "code",
      "source": [
        "query = \"solve 8x + 31 = 2\""
      ],
      "metadata": {
        "id": "zHMWh97MkDRC"
      },
      "execution_count": 10,
      "outputs": []
    },
    {
      "cell_type": "code",
      "source": [
        "system_prompt = \"You are a helpful math tutor.\""
      ],
      "metadata": {
        "id": "7fYBDB9nllKh"
      },
      "execution_count": 11,
      "outputs": []
    },
    {
      "cell_type": "code",
      "source": [
        "class MathTutor(BaseModel):\n",
        "    class Step(BaseModel):\n",
        "        explanation: str = Field(description=\"Description of the step taken.\")\n",
        "        output: str = Field(description=\"Only answer of each step without text\")\n",
        "\n",
        "    steps: list[Step]\n",
        "    final_answer: str = Field(\n",
        "        description=\"The final answer of the equation.\"\n",
        "    )\n",
        "\n",
        "\n",
        "def math_response(query: str):\n",
        "    completion = client.chat.completions.create(\n",
        "        model=MODEL,\n",
        "        messages=[\n",
        "            {\"role\": \"system\", \"content\": system_prompt},\n",
        "            {\"role\": \"user\", \"content\": query},\n",
        "        ],\n",
        "        # response_format=MathTutor,\n",
        "        response_format={\n",
        "            \"type\": \"json_schema\",\n",
        "            \"json_schema\": {\n",
        "                \"name\": \"math_tutor_schema\",\n",
        "                \"schema\": MathTutor.model_json_schema(),\n",
        "            },\n",
        "        },\n",
        "    )\n",
        "\n",
        "    # Parse JSON back into Pydantic model\n",
        "    content = completion.choices[0].message.content\n",
        "    return MathTutor.model_validate_json(content)\n"
      ],
      "metadata": {
        "id": "YBco_XWFj71m"
      },
      "execution_count": 24,
      "outputs": []
    },
    {
      "cell_type": "code",
      "source": [
        "response_pydantic = math_response(query)\n",
        "print(response_pydantic.model_dump())"
      ],
      "metadata": {
        "colab": {
          "base_uri": "https://localhost:8080/"
        },
        "id": "afWS1ME-iz2W",
        "outputId": "51000eb1-f2d2-4b3d-fa13-f5e6ff353673"
      },
      "execution_count": 25,
      "outputs": [
        {
          "output_type": "stream",
          "name": "stdout",
          "text": [
            "{'steps': [{'explanation': 'Subtract 31 from both sides to isolate the term with x.', 'output': '-29'}, {'explanation': 'Divide both sides by 8 to solve for x.', 'output': '-29/8'}], 'final_answer': '-29/8'}\n"
          ]
        }
      ]
    }
  ]
}